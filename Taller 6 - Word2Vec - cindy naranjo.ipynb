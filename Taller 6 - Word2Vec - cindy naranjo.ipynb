{
 "cells": [
  {
   "cell_type": "markdown",
   "metadata": {},
   "source": [
    "<img src='https://encrypted-tbn0.gstatic.com/images?q=tbn%3AANd9GcQ-VfNtOyJbsaxu43Kztf_cv1mgBG6ZIQZEVw&usqp=CAU'>\n",
    "\n",
    "# Procesamiento de Lenguaje Natural\n",
    "\n",
    "## Taller #6: Word2Vec\n",
    "`Fecha de entrega: Septiembre 19, 2020. (Antes del inicio de la próxima clase).`\n",
    "\n",
    "`Modo de entrega: Subir link de GitHub al aula virtual.`\n",
    "\n",
    "\n",
    "\n",
    "Datos: Libre elección\n",
    "\n",
    "Expectativas:\n",
    "- Pre-procesamiento del texto\n",
    "- Uso de Word2Vec (Consejo: jugar con los parámetros)\n",
    "- Mostrar las palabras más parecidas (`most_similar`) de tres palabras que le llamen la atención\n",
    "- Responder:\n",
    "    - ¿Su modelo da buenos resultados? ¿Por qué sí o por qué no?\n",
    "    - ¿Qué problemas encontró al realizar este taller?\n",
    "\n",
    "\n",
    "Bonus: \n",
    "- Usar una función que no hayamos visto en clase ([Aquí](https://radimrehurek.com/gensim/models/word2vec.html#module-gensim.models.word2vec))\n",
    "- Visualizar el modelo usando PCA"
   ]
  },
  {
   "cell_type": "code",
   "execution_count": 1,
   "metadata": {},
   "outputs": [],
   "source": [
    "import re\n",
    "import pandas as pd\n",
    "import gensim.models.word2vec as w2v\n",
    "\n",
    "from nltk.corpus import stopwords\n",
    "stopwords_sp = stopwords.words('spanish')"
   ]
  },
  {
   "cell_type": "code",
   "execution_count": 2,
   "metadata": {},
   "outputs": [],
   "source": [
    "libro = pd.read_csv(\"libro.csv\",encoding='utf-8')"
   ]
  },
  {
   "cell_type": "code",
   "execution_count": 3,
   "metadata": {},
   "outputs": [
    {
     "data": {
      "text/html": [
       "<div>\n",
       "<style scoped>\n",
       "    .dataframe tbody tr th:only-of-type {\n",
       "        vertical-align: middle;\n",
       "    }\n",
       "\n",
       "    .dataframe tbody tr th {\n",
       "        vertical-align: top;\n",
       "    }\n",
       "\n",
       "    .dataframe thead th {\n",
       "        text-align: right;\n",
       "    }\n",
       "</style>\n",
       "<table border=\"1\" class=\"dataframe\">\n",
       "  <thead>\n",
       "    <tr style=\"text-align: right;\">\n",
       "      <th></th>\n",
       "      <th>1</th>\n",
       "    </tr>\n",
       "  </thead>\n",
       "  <tbody>\n",
       "    <tr>\n",
       "      <td>0</td>\n",
       "      <td>Mario Tancredo siempre ocultaba su desprecio a...</td>\n",
       "    </tr>\n",
       "    <tr>\n",
       "      <td>1</td>\n",
       "      <td>adversario lo reservaba para el momento precis...</td>\n",
       "    </tr>\n",
       "    <tr>\n",
       "      <td>2</td>\n",
       "      <td>ese modo.</td>\n",
       "    </tr>\n",
       "    <tr>\n",
       "      <td>3</td>\n",
       "      <td>Le gustaba dar el golpe de gracia en su lujoso...</td>\n",
       "    </tr>\n",
       "    <tr>\n",
       "      <td>4</td>\n",
       "      <td>una comida supuestamente informal que en reali...</td>\n",
       "    </tr>\n",
       "    <tr>\n",
       "      <td>...</td>\n",
       "      <td>...</td>\n",
       "    </tr>\n",
       "    <tr>\n",
       "      <td>12611</td>\n",
       "      <td>El inexplicable fenómeno que pasaría a ser con...</td>\n",
       "    </tr>\n",
       "    <tr>\n",
       "      <td>12612</td>\n",
       "      <td>Onda tuvo el desconcertante efecto de sembrar ...</td>\n",
       "    </tr>\n",
       "    <tr>\n",
       "      <td>12613</td>\n",
       "      <td>las amedrentadas mentes de todos los supervivi...</td>\n",
       "    </tr>\n",
       "    <tr>\n",
       "      <td>12614</td>\n",
       "      <td>causado aquella vorágine de destrucción? Y lo ...</td>\n",
       "    </tr>\n",
       "    <tr>\n",
       "      <td>12615</td>\n",
       "      <td>qué?</td>\n",
       "    </tr>\n",
       "  </tbody>\n",
       "</table>\n",
       "<p>12616 rows × 1 columns</p>\n",
       "</div>"
      ],
      "text/plain": [
       "                                                       1\n",
       "0      Mario Tancredo siempre ocultaba su desprecio a...\n",
       "1      adversario lo reservaba para el momento precis...\n",
       "2                                              ese modo.\n",
       "3      Le gustaba dar el golpe de gracia en su lujoso...\n",
       "4      una comida supuestamente informal que en reali...\n",
       "...                                                  ...\n",
       "12611  El inexplicable fenómeno que pasaría a ser con...\n",
       "12612  Onda tuvo el desconcertante efecto de sembrar ...\n",
       "12613  las amedrentadas mentes de todos los supervivi...\n",
       "12614  causado aquella vorágine de destrucción? Y lo ...\n",
       "12615                                               qué?\n",
       "\n",
       "[12616 rows x 1 columns]"
      ]
     },
     "execution_count": 3,
     "metadata": {},
     "output_type": "execute_result"
    }
   ],
   "source": [
    "libro"
   ]
  },
  {
   "cell_type": "code",
   "execution_count": 4,
   "metadata": {},
   "outputs": [],
   "source": [
    "def pre_procesado(texto):\n",
    "    texto = texto.lower()\n",
    "    texto = re.sub(r\"[\\W\\d_]+\", \" \", texto)\n",
    "    texto = \" \".join([palabra for palabra in texto.split() if palabra not in stopwords_sp])\n",
    "    return texto.split()\n"
   ]
  },
  {
   "cell_type": "code",
   "execution_count": 5,
   "metadata": {},
   "outputs": [
    {
     "data": {
      "text/html": [
       "<div>\n",
       "<style scoped>\n",
       "    .dataframe tbody tr th:only-of-type {\n",
       "        vertical-align: middle;\n",
       "    }\n",
       "\n",
       "    .dataframe tbody tr th {\n",
       "        vertical-align: top;\n",
       "    }\n",
       "\n",
       "    .dataframe thead th {\n",
       "        text-align: right;\n",
       "    }\n",
       "</style>\n",
       "<table border=\"1\" class=\"dataframe\">\n",
       "  <thead>\n",
       "    <tr style=\"text-align: right;\">\n",
       "      <th></th>\n",
       "      <th>1</th>\n",
       "      <th>pp</th>\n",
       "    </tr>\n",
       "  </thead>\n",
       "  <tbody>\n",
       "    <tr>\n",
       "      <td>0</td>\n",
       "      <td>Mario Tancredo siempre ocultaba su desprecio a...</td>\n",
       "      <td>[mario, tancredo, siempre, ocultaba, desprecio...</td>\n",
       "    </tr>\n",
       "    <tr>\n",
       "      <td>1</td>\n",
       "      <td>adversario lo reservaba para el momento precis...</td>\n",
       "      <td>[adversario, reservaba, momento, preciso, eleg...</td>\n",
       "    </tr>\n",
       "    <tr>\n",
       "      <td>2</td>\n",
       "      <td>ese modo.</td>\n",
       "      <td>[modo]</td>\n",
       "    </tr>\n",
       "    <tr>\n",
       "      <td>3</td>\n",
       "      <td>Le gustaba dar el golpe de gracia en su lujoso...</td>\n",
       "      <td>[gustaba, dar, golpe, gracia, lujoso, restaura...</td>\n",
       "    </tr>\n",
       "    <tr>\n",
       "      <td>4</td>\n",
       "      <td>una comida supuestamente informal que en reali...</td>\n",
       "      <td>[comida, supuestamente, informal, realidad, ca...</td>\n",
       "    </tr>\n",
       "  </tbody>\n",
       "</table>\n",
       "</div>"
      ],
      "text/plain": [
       "                                                   1  \\\n",
       "0  Mario Tancredo siempre ocultaba su desprecio a...   \n",
       "1  adversario lo reservaba para el momento precis...   \n",
       "2                                          ese modo.   \n",
       "3  Le gustaba dar el golpe de gracia en su lujoso...   \n",
       "4  una comida supuestamente informal que en reali...   \n",
       "\n",
       "                                                  pp  \n",
       "0  [mario, tancredo, siempre, ocultaba, desprecio...  \n",
       "1  [adversario, reservaba, momento, preciso, eleg...  \n",
       "2                                             [modo]  \n",
       "3  [gustaba, dar, golpe, gracia, lujoso, restaura...  \n",
       "4  [comida, supuestamente, informal, realidad, ca...  "
      ]
     },
     "execution_count": 5,
     "metadata": {},
     "output_type": "execute_result"
    }
   ],
   "source": [
    "libro['pp'] = libro['1'].apply(lambda texto: pre_procesado(texto))\n",
    "\n",
    "libro.head()"
   ]
  },
  {
   "cell_type": "code",
   "execution_count": 6,
   "metadata": {},
   "outputs": [
    {
     "name": "stdout",
     "output_type": "stream",
     "text": [
      "Wall time: 550 ms\n"
     ]
    }
   ],
   "source": [
    "%%time\n",
    "\n",
    "modelo = w2v.Word2Vec(libro['pp'].values,\n",
    "                         sg=1, \n",
    "                         seed=1, \n",
    "                         size=256, \n",
    "                         min_count=10,\n",
    "                         window=12)"
   ]
  },
  {
   "cell_type": "code",
   "execution_count": 7,
   "metadata": {},
   "outputs": [
    {
     "data": {
      "text/plain": [
       "[('tres', 0.9997954368591309),\n",
       " ('primer', 0.9997870922088623),\n",
       " ('después', 0.9997852444648743),\n",
       " ('imposible', 0.9997850656509399),\n",
       " ('vas', 0.9997845888137817),\n",
       " ('cuidado', 0.9997840523719788),\n",
       " ('nuevo', 0.9997828602790833),\n",
       " ('misma', 0.9997820258140564),\n",
       " ('tener', 0.999781608581543),\n",
       " ('conocía', 0.9997813701629639)]"
      ]
     },
     "execution_count": 7,
     "metadata": {},
     "output_type": "execute_result"
    }
   ],
   "source": [
    "modelo.wv.most_similar(\"familia\")"
   ]
  },
  {
   "cell_type": "code",
   "execution_count": 8,
   "metadata": {},
   "outputs": [
    {
     "data": {
      "text/plain": [
       "[('encontrar', 0.9997982978820801),\n",
       " ('aún', 0.9997960925102234),\n",
       " ('casa', 0.9997947216033936),\n",
       " ('código', 0.9997900128364563),\n",
       " ('creo', 0.9997872114181519),\n",
       " ('digo', 0.9997866153717041),\n",
       " ('labios', 0.9997859001159668),\n",
       " ('misma', 0.9997853636741638),\n",
       " ('conocía', 0.9997841119766235),\n",
       " ('instante', 0.9997835755348206)]"
      ]
     },
     "execution_count": 8,
     "metadata": {},
     "output_type": "execute_result"
    }
   ],
   "source": [
    "modelo.wv.most_similar(\"demonio\")"
   ]
  },
  {
   "cell_type": "code",
   "execution_count": 9,
   "metadata": {},
   "outputs": [
    {
     "data": {
      "text/plain": [
       "[('aspecto', 0.9998192191123962),\n",
       " ('alas', 0.9998077154159546),\n",
       " ('incluso', 0.9998064637184143),\n",
       " ('posible', 0.9998056888580322),\n",
       " ('días', 0.9998043775558472),\n",
       " ('seguro', 0.9998034834861755),\n",
       " ('delante', 0.999802827835083),\n",
       " ('sabe', 0.9998007416725159),\n",
       " ('capaz', 0.9998006820678711),\n",
       " ('sabía', 0.9997997283935547)]"
      ]
     },
     "execution_count": 9,
     "metadata": {},
     "output_type": "execute_result"
    }
   ],
   "source": [
    "modelo.wv.most_similar(\"matar\")"
   ]
  },
  {
   "cell_type": "markdown",
   "metadata": {},
   "source": [
    "## ¿Su modelo da buenos resultados? ¿Por qué sí o por qué no?"
   ]
  },
  {
   "cell_type": "markdown",
   "metadata": {},
   "source": [
    "No, realmente no creo que este dando buenos resultados, sucede que cuando busco alguna palabra, las palabras que me devuelve el modelo como \"mas similares\" en realidad no se relacionan con la palabra buscada"
   ]
  },
  {
   "cell_type": "markdown",
   "metadata": {},
   "source": [
    "## ¿Qué problemas encontró al realizar este taller?"
   ]
  },
  {
   "cell_type": "markdown",
   "metadata": {},
   "source": [
    "Al cargar el archivo se me presento inconvenientes, debido a los fines de linea del archivo, fue necesario cambiarlo de formato windows a linux."
   ]
  }
 ],
 "metadata": {
  "kernelspec": {
   "display_name": "Python 3",
   "language": "python",
   "name": "python3"
  },
  "language_info": {
   "codemirror_mode": {
    "name": "ipython",
    "version": 3
   },
   "file_extension": ".py",
   "mimetype": "text/x-python",
   "name": "python",
   "nbconvert_exporter": "python",
   "pygments_lexer": "ipython3",
   "version": "3.7.4"
  }
 },
 "nbformat": 4,
 "nbformat_minor": 2
}
