{
 "cells": [
  {
   "cell_type": "markdown",
   "metadata": {},
   "source": [
    "<img src='https://encrypted-tbn0.gstatic.com/images?q=tbn%3AANd9GcQ-VfNtOyJbsaxu43Kztf_cv1mgBG6ZIQZEVw&usqp=CAU'>\n",
    "\n",
    "# Procesamiento de Lenjuage Natural\n",
    "\n",
    "## Taller #8: Modelado de temas\n",
    "`Fecha de entrega: 🎃 Octubre 31, 2020. (Antes del inicio de la próxima clase).`\n",
    "\n",
    "`Modo de entrega: Subir link de GitHub al aula virtual.`"
   ]
  },
  {
   "cell_type": "code",
   "execution_count": 1,
   "metadata": {},
   "outputs": [
    {
     "name": "stderr",
     "output_type": "stream",
     "text": [
      "C:\\Users\\cikan\\Anaconda3\\lib\\site-packages\\scipy\\sparse\\sparsetools.py:21: DeprecationWarning: `scipy.sparse.sparsetools` is deprecated!\n",
      "scipy.sparse.sparsetools is a private module for scipy.sparse, and should not be used.\n",
      "  _deprecated()\n"
     ]
    }
   ],
   "source": [
    "import re\n",
    "import pandas as pd \n",
    "from pprint import pprint\n",
    "\n",
    "from nltk.corpus import stopwords\n",
    "stopwords = stopwords.words('spanish')\n",
    "\n",
    "import pyLDAvis.gensim\n",
    "from gensim.models import LdaModel\n",
    "from gensim.corpora import Dictionary\n",
    "\n",
    "import warnings\n",
    "warnings.filterwarnings(\"ignore\", category=DeprecationWarning)"
   ]
  },
  {
   "cell_type": "code",
   "execution_count": 2,
   "metadata": {},
   "outputs": [
    {
     "data": {
      "text/html": [
       "<div>\n",
       "<style scoped>\n",
       "    .dataframe tbody tr th:only-of-type {\n",
       "        vertical-align: middle;\n",
       "    }\n",
       "\n",
       "    .dataframe tbody tr th {\n",
       "        vertical-align: top;\n",
       "    }\n",
       "\n",
       "    .dataframe thead th {\n",
       "        text-align: right;\n",
       "    }\n",
       "</style>\n",
       "<table border=\"1\" class=\"dataframe\">\n",
       "  <thead>\n",
       "    <tr style=\"text-align: right;\">\n",
       "      <th></th>\n",
       "      <th>review_id</th>\n",
       "      <th>product_id</th>\n",
       "      <th>reviewer_id</th>\n",
       "      <th>stars</th>\n",
       "      <th>review_body</th>\n",
       "      <th>review_title</th>\n",
       "      <th>language</th>\n",
       "      <th>product_category</th>\n",
       "    </tr>\n",
       "  </thead>\n",
       "  <tbody>\n",
       "    <tr>\n",
       "      <th>0</th>\n",
       "      <td>es_0825565</td>\n",
       "      <td>product_es_0370490</td>\n",
       "      <td>reviewer_es_0174781</td>\n",
       "      <td>3</td>\n",
       "      <td>Buen. Buena calidad, y buena presentación.</td>\n",
       "      <td>Contenta</td>\n",
       "      <td>es</td>\n",
       "      <td>jewelry</td>\n",
       "    </tr>\n",
       "    <tr>\n",
       "      <th>1</th>\n",
       "      <td>es_0227934</td>\n",
       "      <td>product_es_0354224</td>\n",
       "      <td>reviewer_es_0411613</td>\n",
       "      <td>3</td>\n",
       "      <td>Un producto a perfecto, para salir de casa con...</td>\n",
       "      <td>Versatilidad</td>\n",
       "      <td>es</td>\n",
       "      <td>video_games</td>\n",
       "    </tr>\n",
       "    <tr>\n",
       "      <th>2</th>\n",
       "      <td>es_0468601</td>\n",
       "      <td>product_es_0665460</td>\n",
       "      <td>reviewer_es_0348315</td>\n",
       "      <td>1</td>\n",
       "      <td>No funciona con Nintendo Switch. No hay forma ...</td>\n",
       "      <td>Decepción absoluta</td>\n",
       "      <td>es</td>\n",
       "      <td>video_games</td>\n",
       "    </tr>\n",
       "    <tr>\n",
       "      <th>3</th>\n",
       "      <td>es_0814494</td>\n",
       "      <td>product_es_0692692</td>\n",
       "      <td>reviewer_es_0951508</td>\n",
       "      <td>5</td>\n",
       "      <td>Recomendado, los utilizo para pc y no me dan n...</td>\n",
       "      <td>Auriculares Pecham ps4</td>\n",
       "      <td>es</td>\n",
       "      <td>video_games</td>\n",
       "    </tr>\n",
       "    <tr>\n",
       "      <th>4</th>\n",
       "      <td>es_0206329</td>\n",
       "      <td>product_es_0728826</td>\n",
       "      <td>reviewer_es_0493255</td>\n",
       "      <td>4</td>\n",
       "      <td>El cable funciona bien podria ser un poco mas ...</td>\n",
       "      <td>Perfecto</td>\n",
       "      <td>es</td>\n",
       "      <td>video_games</td>\n",
       "    </tr>\n",
       "  </tbody>\n",
       "</table>\n",
       "</div>"
      ],
      "text/plain": [
       "    review_id          product_id          reviewer_id  stars  \\\n",
       "0  es_0825565  product_es_0370490  reviewer_es_0174781      3   \n",
       "1  es_0227934  product_es_0354224  reviewer_es_0411613      3   \n",
       "2  es_0468601  product_es_0665460  reviewer_es_0348315      1   \n",
       "3  es_0814494  product_es_0692692  reviewer_es_0951508      5   \n",
       "4  es_0206329  product_es_0728826  reviewer_es_0493255      4   \n",
       "\n",
       "                                         review_body            review_title  \\\n",
       "0         Buen. Buena calidad, y buena presentación.                Contenta   \n",
       "1  Un producto a perfecto, para salir de casa con...            Versatilidad   \n",
       "2  No funciona con Nintendo Switch. No hay forma ...      Decepción absoluta   \n",
       "3  Recomendado, los utilizo para pc y no me dan n...  Auriculares Pecham ps4   \n",
       "4  El cable funciona bien podria ser un poco mas ...                Perfecto   \n",
       "\n",
       "  language product_category  \n",
       "0       es          jewelry  \n",
       "1       es      video_games  \n",
       "2       es      video_games  \n",
       "3       es      video_games  \n",
       "4       es      video_games  "
      ]
     },
     "execution_count": 2,
     "metadata": {},
     "output_type": "execute_result"
    }
   ],
   "source": [
    "# Cargar datos\n",
    "path = 'reviews_vidjew_es.csv'\n",
    "data = pd.read_csv(path)\n",
    "data.head()"
   ]
  },
  {
   "cell_type": "markdown",
   "metadata": {},
   "source": [
    "###  `[12 pts]` Punto 1: Hacer pre-procesamiento del texto"
   ]
  },
  {
   "cell_type": "code",
   "execution_count": 3,
   "metadata": {},
   "outputs": [
    {
     "data": {
      "text/html": [
       "<div>\n",
       "<style scoped>\n",
       "    .dataframe tbody tr th:only-of-type {\n",
       "        vertical-align: middle;\n",
       "    }\n",
       "\n",
       "    .dataframe tbody tr th {\n",
       "        vertical-align: top;\n",
       "    }\n",
       "\n",
       "    .dataframe thead th {\n",
       "        text-align: right;\n",
       "    }\n",
       "</style>\n",
       "<table border=\"1\" class=\"dataframe\">\n",
       "  <thead>\n",
       "    <tr style=\"text-align: right;\">\n",
       "      <th></th>\n",
       "      <th>review_id</th>\n",
       "      <th>product_id</th>\n",
       "      <th>reviewer_id</th>\n",
       "      <th>stars</th>\n",
       "      <th>review_body</th>\n",
       "      <th>review_title</th>\n",
       "      <th>language</th>\n",
       "      <th>product_category</th>\n",
       "      <th>pp</th>\n",
       "    </tr>\n",
       "  </thead>\n",
       "  <tbody>\n",
       "    <tr>\n",
       "      <th>0</th>\n",
       "      <td>es_0825565</td>\n",
       "      <td>product_es_0370490</td>\n",
       "      <td>reviewer_es_0174781</td>\n",
       "      <td>3</td>\n",
       "      <td>Buen. Buena calidad, y buena presentación.</td>\n",
       "      <td>Contenta</td>\n",
       "      <td>es</td>\n",
       "      <td>jewelry</td>\n",
       "      <td>[buen, buena, calidad, buena, presentación]</td>\n",
       "    </tr>\n",
       "    <tr>\n",
       "      <th>1</th>\n",
       "      <td>es_0227934</td>\n",
       "      <td>product_es_0354224</td>\n",
       "      <td>reviewer_es_0411613</td>\n",
       "      <td>3</td>\n",
       "      <td>Un producto a perfecto, para salir de casa con...</td>\n",
       "      <td>Versatilidad</td>\n",
       "      <td>es</td>\n",
       "      <td>video_games</td>\n",
       "      <td>[producto, perfecto, salir, casa, nintendo, sw...</td>\n",
       "    </tr>\n",
       "    <tr>\n",
       "      <th>2</th>\n",
       "      <td>es_0468601</td>\n",
       "      <td>product_es_0665460</td>\n",
       "      <td>reviewer_es_0348315</td>\n",
       "      <td>1</td>\n",
       "      <td>No funciona con Nintendo Switch. No hay forma ...</td>\n",
       "      <td>Decepción absoluta</td>\n",
       "      <td>es</td>\n",
       "      <td>video_games</td>\n",
       "      <td>[funciona, nintendo, switch, forma, emparejarl...</td>\n",
       "    </tr>\n",
       "    <tr>\n",
       "      <th>3</th>\n",
       "      <td>es_0814494</td>\n",
       "      <td>product_es_0692692</td>\n",
       "      <td>reviewer_es_0951508</td>\n",
       "      <td>5</td>\n",
       "      <td>Recomendado, los utilizo para pc y no me dan n...</td>\n",
       "      <td>Auriculares Pecham ps4</td>\n",
       "      <td>es</td>\n",
       "      <td>video_games</td>\n",
       "      <td>[recomendado, utilizo, pc, dan, ningún, proble...</td>\n",
       "    </tr>\n",
       "    <tr>\n",
       "      <th>4</th>\n",
       "      <td>es_0206329</td>\n",
       "      <td>product_es_0728826</td>\n",
       "      <td>reviewer_es_0493255</td>\n",
       "      <td>4</td>\n",
       "      <td>El cable funciona bien podria ser un poco mas ...</td>\n",
       "      <td>Perfecto</td>\n",
       "      <td>es</td>\n",
       "      <td>video_games</td>\n",
       "      <td>[cable, funciona, bien, podria, ser, mas, larg...</td>\n",
       "    </tr>\n",
       "  </tbody>\n",
       "</table>\n",
       "</div>"
      ],
      "text/plain": [
       "    review_id          product_id          reviewer_id  stars  \\\n",
       "0  es_0825565  product_es_0370490  reviewer_es_0174781      3   \n",
       "1  es_0227934  product_es_0354224  reviewer_es_0411613      3   \n",
       "2  es_0468601  product_es_0665460  reviewer_es_0348315      1   \n",
       "3  es_0814494  product_es_0692692  reviewer_es_0951508      5   \n",
       "4  es_0206329  product_es_0728826  reviewer_es_0493255      4   \n",
       "\n",
       "                                         review_body            review_title  \\\n",
       "0         Buen. Buena calidad, y buena presentación.                Contenta   \n",
       "1  Un producto a perfecto, para salir de casa con...            Versatilidad   \n",
       "2  No funciona con Nintendo Switch. No hay forma ...      Decepción absoluta   \n",
       "3  Recomendado, los utilizo para pc y no me dan n...  Auriculares Pecham ps4   \n",
       "4  El cable funciona bien podria ser un poco mas ...                Perfecto   \n",
       "\n",
       "  language product_category                                                 pp  \n",
       "0       es          jewelry        [buen, buena, calidad, buena, presentación]  \n",
       "1       es      video_games  [producto, perfecto, salir, casa, nintendo, sw...  \n",
       "2       es      video_games  [funciona, nintendo, switch, forma, emparejarl...  \n",
       "3       es      video_games  [recomendado, utilizo, pc, dan, ningún, proble...  \n",
       "4       es      video_games  [cable, funciona, bien, podria, ser, mas, larg...  "
      ]
     },
     "execution_count": 3,
     "metadata": {},
     "output_type": "execute_result"
    }
   ],
   "source": [
    "def pre_procesado(texto):\n",
    "    texto = texto.lower()\n",
    "    texto = re.sub(r\"[\\W\\d_]+\", \" \", texto)\n",
    "    texto = [palabra for palabra in texto.split() if palabra not in stopwords]\n",
    "    return texto\n",
    "data['pp'] = data['review_body'].apply(lambda texto: pre_procesado(texto))\n",
    "data.head()"
   ]
  },
  {
   "cell_type": "markdown",
   "metadata": {},
   "source": [
    "###  `[13 pts]` Punto 2: Modelo de LDA"
   ]
  },
  {
   "cell_type": "code",
   "execution_count": 4,
   "metadata": {},
   "outputs": [],
   "source": [
    "# Crear una representación de los documentos en forma de diccionario\n",
    "dictionary = Dictionary(data['pp'].values)"
   ]
  },
  {
   "cell_type": "code",
   "execution_count": 5,
   "metadata": {},
   "outputs": [],
   "source": [
    "# Filtrar palabras muy frecuentes o infrecuentes\n",
    "dictionary.filter_extremes(no_below=5, no_above=0.5)\n",
    "corpus = [dictionary.doc2bow(text) for text in data['pp'].values]"
   ]
  },
  {
   "cell_type": "code",
   "execution_count": 6,
   "metadata": {},
   "outputs": [],
   "source": [
    "#Train the topic model\n",
    "model = LdaModel(corpus=corpus, id2word=dictionary, num_topics=2, passes=100)"
   ]
  },
  {
   "cell_type": "code",
   "execution_count": 7,
   "metadata": {},
   "outputs": [
    {
     "data": {
      "text/plain": [
       "[(0,\n",
       "  '0.043*\"calidad\" + 0.035*\"bien\" + 0.020*\"precio\" + 0.019*\"buena\" + 0.019*\"bonito\" + 0.017*\"regalo\" + 0.015*\"foto\" + 0.012*\"bonitos\" + 0.011*\"pulsera\" + 0.011*\"dos\"'),\n",
       " (1,\n",
       "  '0.028*\"juego\" + 0.024*\"producto\" + 0.024*\"si\" + 0.016*\"bien\" + 0.014*\"perfecto\" + 0.012*\"mando\" + 0.012*\"puede\" + 0.012*\"precio\" + 0.011*\"caja\" + 0.010*\"solo\"')]"
      ]
     },
     "execution_count": 7,
     "metadata": {},
     "output_type": "execute_result"
    }
   ],
   "source": [
    "model.print_topics(num_words=10)"
   ]
  },
  {
   "cell_type": "markdown",
   "metadata": {},
   "source": [
    "###  `[25 pts]` Punto 3: Visualización de LDA"
   ]
  },
  {
   "cell_type": "code",
   "execution_count": 8,
   "metadata": {},
   "outputs": [
    {
     "data": {
      "text/html": [
       "\n",
       "<link rel=\"stylesheet\" type=\"text/css\" href=\"https://cdn.rawgit.com/bmabey/pyLDAvis/files/ldavis.v1.0.0.css\">\n",
       "\n",
       "\n",
       "<div id=\"ldavis_el1134421229919861205859706118\"></div>\n",
       "<script type=\"text/javascript\">\n",
       "\n",
       "var ldavis_el1134421229919861205859706118_data = {\"mdsDat\": {\"x\": [0.1618344485759735, -0.1618344485759735], \"y\": [0.0, 0.0], \"topics\": [1, 2], \"cluster\": [1, 1], \"Freq\": [55.78516859324022, 44.21483140675978]}, \"tinfo\": {\"Term\": [\"calidad\", \"juego\", \"bonito\", \"buena\", \"producto\", \"foto\", \"regalo\", \"bonitos\", \"pulsera\", \"mando\", \"perfecto\", \"queda\", \"plata\", \"tama\\u00f1o\", \"puede\", \"cadena\", \"caja\", \"si\", \"gustado\", \"dos\", \"peque\\u00f1o\", \"pendientes\", \"bien\", \"lleg\\u00f3\", \"tal\", \"bonita\", \"demasiado\", \"colgante\", \"mala\", \"grandes\", \"juego\", \"mando\", \"caja\", \"puede\", \"jugar\", \"funciona\", \"original\", \"lleg\\u00f3\", \"cable\", \"menos\", \"switch\", \"gracias\", \"puedo\", \"entrega\", \"hacer\", \"perfecto\", \"nunca\", \"espa\\u00f1ol\", \"nintendo\", \"tener\", \"r\\u00e1pido\", \"vendedor\", \"gran\", \"producto\", \"caso\", \"muchas\", \"versi\\u00f3n\", \"ning\\u00fan\", \"servicio\", \"env\\u00edo\", \"todas\", \"solo\", \"amazon\", \"llego\", \"problema\", \"si\", \"va\", \"pena\", \"comprar\", \"despu\\u00e9s\", \"tiempo\", \"perfectamente\", \"as\\u00ed\", \"llegado\", \"bien\", \"viene\", \"mejor\", \"precio\", \"buen\", \"mas\", \"bastante\", \"calidad\", \"bonito\", \"bonitos\", \"plata\", \"cadena\", \"tama\\u00f1o\", \"queda\", \"foto\", \"pendientes\", \"pulsera\", \"colgante\", \"bonita\", \"buena\", \"mala\", \"color\", \"grandes\", \"peque\\u00f1os\", \"peque\\u00f1o\", \"gustado\", \"quedan\", \"fina\", \"collar\", \"tal\", \"dise\\u00f1o\", \"q\", \"encantado\", \"regalar\", \"contenta\", \"uso\", \"van\", \"demasiado\", \"ve\", \"regalo\", \"dos\", \"d\\u00edas\", \"cierre\", \"bien\", \"precio\", \"recomiendo\", \"grande\", \"parece\", \"mas\", \"d\\u00eda\", \"bastante\", \"buen\"], \"Freq\": [143.0, 117.0, 63.0, 65.0, 105.0, 52.0, 61.0, 39.0, 37.0, 52.0, 59.0, 35.0, 34.0, 34.0, 50.0, 32.0, 47.0, 113.0, 32.0, 39.0, 29.0, 28.0, 185.0, 43.0, 29.0, 26.0, 28.0, 25.0, 24.0, 24.0, 117.3491756338294, 52.27054517047342, 46.586355370045545, 50.18324836456221, 33.44470841161487, 34.34359150788067, 31.511801454697867, 42.53150718731874, 22.093562541769973, 23.929822971121943, 20.242828924286698, 21.154804937244034, 21.14457480576092, 22.973601590345186, 19.274749399559404, 57.80926379890255, 20.17560262685463, 17.41645968073275, 16.49151953709429, 18.312344324084517, 20.11699024563004, 19.2012351989017, 18.27524412209435, 102.23171139953354, 15.512221866071227, 16.40878878034835, 13.66504608501284, 16.38417393967238, 14.546644329103353, 20.909848046855426, 17.257968341391866, 43.956261904946636, 33.23533185167376, 32.20240906225658, 23.45907176221373, 99.91005551386105, 21.55998145557119, 28.324212029437255, 23.38551037278885, 24.44492768877435, 33.55198420898533, 30.609921871716654, 31.830815216566656, 34.620754731864004, 69.3509087556212, 28.681519475865926, 27.24179018945552, 48.80521052643436, 35.25977321971219, 32.27335540750069, 25.459820436734663, 142.6002665560955, 62.76669227082212, 38.580759278801885, 33.929938867973156, 32.07287522247397, 33.867353859234676, 34.7535208049286, 51.16344411784072, 28.320570452788456, 36.52268181091328, 24.625525667567043, 25.519035754724506, 63.733169371902726, 23.645711850729867, 20.902083869665532, 23.626443896346338, 20.887023572742006, 29.057384259351938, 31.71067071796661, 21.73204118686871, 14.393098030439749, 15.284533898308595, 28.74294134219062, 18.822291772499973, 15.189959784132492, 13.396135671865565, 14.283653743121649, 11.572938993744483, 22.23745876739821, 11.552314459428013, 27.527093525763544, 21.243929545633062, 56.94147414472234, 35.76035401622563, 20.141783542516947, 22.349982436620373, 115.8099556690624, 67.2266471056983, 24.324528553577924, 24.21498920436906, 29.93570002790382, 32.36173246549514, 28.5078174433254, 27.917935035265383, 25.694181834084798], \"Total\": [143.0, 117.0, 63.0, 65.0, 105.0, 52.0, 61.0, 39.0, 37.0, 52.0, 59.0, 35.0, 34.0, 34.0, 50.0, 32.0, 47.0, 113.0, 32.0, 39.0, 29.0, 28.0, 185.0, 43.0, 29.0, 26.0, 28.0, 25.0, 24.0, 24.0, 117.892292997305, 52.81127819472168, 47.151678256168424, 50.922011621682685, 33.94778562878145, 34.89030870737231, 32.06067916941585, 43.37486978951117, 22.62884246142996, 24.514503613947287, 20.742988004385445, 21.68569403972518, 21.68554441334183, 23.571075898136172, 19.799395974681136, 59.3990725290591, 20.741957752647902, 17.913416850383804, 16.97051361317181, 18.85590451428794, 20.741097661550175, 19.798301889876246, 18.855352930810543, 105.59175574411819, 16.02674576211912, 16.96923594598996, 14.140956834507424, 16.968871822205372, 15.083212649061512, 21.682220649734056, 17.911053124783194, 46.18548525562419, 34.87523011410579, 33.930600925708774, 24.50805751970386, 113.00344088112917, 22.62145158598381, 31.086836609938743, 25.437433557245335, 27.31259234698684, 42.322586712160984, 37.630646907207684, 40.43844423757466, 50.71079010718323, 185.1608644246836, 38.5349080826667, 35.72415179350831, 116.03185763213267, 60.95395505379699, 64.63508787299583, 53.37775547200005, 143.2917192604038, 63.27419289959578, 39.08348505564106, 34.431438719965186, 32.57057453539745, 34.43215129801689, 35.3631010596376, 52.11505236652049, 28.84927850000856, 37.225209743454265, 25.127343828684506, 26.05816447036392, 65.14701389909561, 24.197489060726237, 21.405728444981143, 24.197730159276915, 21.40588624897383, 29.782182770806003, 32.575353140787605, 22.33732142661289, 14.892803418961396, 15.82366230672947, 29.786503601068652, 19.54763436798178, 15.82480692013885, 13.963139062625649, 14.894122473837553, 12.101909712813102, 23.273359487531213, 12.102134380129778, 28.85993583058299, 22.343901060168353, 61.467564102916086, 39.12187558446028, 21.41573328280672, 24.215057138264356, 185.1608644246836, 116.03185763213267, 27.960677441110086, 29.848610833726156, 48.63400127868616, 64.63508787299583, 48.6536164313138, 53.37775547200005, 60.95395505379699], \"Category\": [\"Default\", \"Default\", \"Default\", \"Default\", \"Default\", \"Default\", \"Default\", \"Default\", \"Default\", \"Default\", \"Default\", \"Default\", \"Default\", \"Default\", \"Default\", \"Default\", \"Default\", \"Default\", \"Default\", \"Default\", \"Default\", \"Default\", \"Default\", \"Default\", \"Default\", \"Default\", \"Default\", \"Default\", \"Default\", \"Default\", \"Topic1\", \"Topic1\", \"Topic1\", \"Topic1\", \"Topic1\", \"Topic1\", \"Topic1\", \"Topic1\", \"Topic1\", \"Topic1\", \"Topic1\", \"Topic1\", \"Topic1\", \"Topic1\", \"Topic1\", \"Topic1\", \"Topic1\", \"Topic1\", \"Topic1\", \"Topic1\", \"Topic1\", \"Topic1\", \"Topic1\", \"Topic1\", \"Topic1\", \"Topic1\", \"Topic1\", \"Topic1\", \"Topic1\", \"Topic1\", \"Topic1\", \"Topic1\", \"Topic1\", \"Topic1\", \"Topic1\", \"Topic1\", \"Topic1\", \"Topic1\", \"Topic1\", \"Topic1\", \"Topic1\", \"Topic1\", \"Topic1\", \"Topic1\", \"Topic1\", \"Topic1\", \"Topic1\", \"Topic1\", \"Topic1\", \"Topic1\", \"Topic1\", \"Topic2\", \"Topic2\", \"Topic2\", \"Topic2\", \"Topic2\", \"Topic2\", \"Topic2\", \"Topic2\", \"Topic2\", \"Topic2\", \"Topic2\", \"Topic2\", \"Topic2\", \"Topic2\", \"Topic2\", \"Topic2\", \"Topic2\", \"Topic2\", \"Topic2\", \"Topic2\", \"Topic2\", \"Topic2\", \"Topic2\", \"Topic2\", \"Topic2\", \"Topic2\", \"Topic2\", \"Topic2\", \"Topic2\", \"Topic2\", \"Topic2\", \"Topic2\", \"Topic2\", \"Topic2\", \"Topic2\", \"Topic2\", \"Topic2\", \"Topic2\", \"Topic2\", \"Topic2\", \"Topic2\", \"Topic2\", \"Topic2\", \"Topic2\", \"Topic2\"], \"logprob\": [30.0, 29.0, 28.0, 27.0, 26.0, 25.0, 24.0, 23.0, 22.0, 21.0, 20.0, 19.0, 18.0, 17.0, 16.0, 15.0, 14.0, 13.0, 12.0, 11.0, 10.0, 9.0, 8.0, 7.0, 6.0, 5.0, 4.0, 3.0, 2.0, 1.0, -3.5829999446868896, -4.39169979095459, -4.506800174713135, -4.432499885559082, -4.8383002281188965, -4.811699867248535, -4.897799968719482, -4.597899913787842, -5.252900123596191, -5.172999858856201, -5.340400218963623, -5.296299934387207, -5.296800136566162, -5.213799953460693, -5.389400005340576, -4.290999889373779, -5.343699932098389, -5.490699768066406, -5.545300006866455, -5.4405999183654785, -5.34660005569458, -5.393199920654297, -5.442599773406982, -3.720900058746338, -5.606500148773193, -5.550300121307373, -5.73330020904541, -5.551799774169922, -5.67080020904541, -5.3078999519348145, -5.499899864196777, -4.565000057220459, -4.8445000648498535, -4.876100063323975, -5.19290018081665, -3.7439000606536865, -5.277299880981445, -5.00439977645874, -5.196000099182129, -5.151700019836426, -4.835100173950195, -4.926799774169922, -4.887700080871582, -4.803699970245361, -4.109000205993652, -4.9918999671936035, -5.043399810791016, -4.460299968719482, -4.785399913787842, -4.873899936676025, -5.111100196838379, -3.1556999683380127, -3.976300001144409, -4.4629998207092285, -4.591400146484375, -4.64769983291626, -4.593299865722656, -4.567399978637695, -4.180699825286865, -4.77209997177124, -4.5177998542785645, -4.911900043487549, -4.876299858093262, -3.9609999656677246, -4.952499866485596, -5.075900077819824, -4.9532999992370605, -5.076600074768066, -4.746399879455566, -4.65910005569458, -5.036900043487549, -5.448999881744385, -5.388899803161621, -4.757299900054932, -5.180699825286865, -5.395100116729736, -5.520699977874756, -5.456600189208984, -5.666999816894531, -5.013899803161621, -5.668799877166748, -4.80049991607666, -5.059599876403809, -4.073699951171875, -4.538899898529053, -5.1128997802734375, -5.008900165557861, -3.363800048828125, -3.907599925994873, -4.924200057983398, -4.928699970245361, -4.716700077056885, -4.638700008392334, -4.765500068664551, -4.786399841308594, -4.8694000244140625], \"loglift\": [30.0, 29.0, 28.0, 27.0, 26.0, 25.0, 24.0, 23.0, 22.0, 21.0, 20.0, 19.0, 18.0, 17.0, 16.0, 15.0, 14.0, 13.0, 12.0, 11.0, 10.0, 9.0, 8.0, 7.0, 6.0, 5.0, 4.0, 3.0, 2.0, 1.0, 0.579, 0.5734, 0.5716, 0.569, 0.5687, 0.5679, 0.5664, 0.564, 0.5597, 0.5595, 0.5593, 0.5589, 0.5584, 0.558, 0.5568, 0.5565, 0.556, 0.5555, 0.555, 0.5544, 0.5531, 0.553, 0.5524, 0.5513, 0.551, 0.5501, 0.5494, 0.5486, 0.5474, 0.5474, 0.5465, 0.5342, 0.5355, 0.5314, 0.5399, 0.4605, 0.5356, 0.4906, 0.4996, 0.4727, 0.3514, 0.3772, 0.3443, 0.202, -0.3984, 0.2884, 0.3126, -0.2824, 0.0363, -0.1109, -0.1566, 0.8113, 0.8081, 0.8032, 0.8014, 0.8007, 0.7996, 0.7987, 0.7977, 0.7976, 0.7971, 0.7959, 0.7952, 0.7942, 0.793, 0.7923, 0.7922, 0.7916, 0.7915, 0.7892, 0.7886, 0.782, 0.7814, 0.7804, 0.7783, 0.7752, 0.7747, 0.7743, 0.7714, 0.7706, 0.7696, 0.7688, 0.7656, 0.7396, 0.7263, 0.7548, 0.736, 0.3468, 0.2703, 0.6768, 0.6069, 0.3308, 0.1243, 0.2816, 0.168, -0.0477]}, \"token.table\": {\"Topic\": [1, 2, 1, 2, 1, 2, 1, 2, 1, 2, 1, 2, 1, 2, 1, 2, 1, 2, 1, 2, 2, 1, 2, 1, 2, 1, 2, 1, 2, 1, 2, 1, 2, 1, 2, 1, 2, 1, 2, 1, 2, 1, 2, 1, 2, 1, 2, 1, 2, 1, 2, 1, 2, 1, 2, 1, 2, 1, 2, 1, 2, 1, 2, 1, 2, 1, 2, 1, 2, 1, 2, 1, 2, 1, 2, 1, 2, 1, 2, 1, 2, 1, 2, 1, 2, 1, 2, 1, 2, 1, 2, 1, 2, 1, 2, 1, 2, 1, 2, 1, 1, 2, 1, 2, 1, 2, 1, 2, 1, 2, 1, 2, 1, 2, 1, 2, 1, 2, 1, 2, 1, 2, 1, 2, 1, 2, 1, 2, 1, 2, 1, 2, 1, 2, 1, 2, 1, 2, 1, 2, 1, 2, 1, 2, 1, 2, 1, 2, 1, 2, 1, 2, 1, 2, 1, 2, 1, 2, 1, 2, 1, 2, 1, 2, 1, 2, 1, 2, 1, 2, 1, 2, 1, 2, 1, 1, 2], \"Freq\": [0.9462303156718864, 0.05734729185890221, 0.7913261898009961, 0.22256049088153015, 0.4683598959704114, 0.5245630834868608, 0.3726489407704541, 0.6264822772372851, 0.03837568840035932, 0.9977678984093423, 0.015804231617569765, 0.9956665919068952, 0.025586254618193683, 0.9978639301095537, 0.5742039211255374, 0.426551484264685, 0.015349897718241884, 0.9823934539674806, 0.9722105776067954, 0.04419138989121797, 0.9824819014237114, 0.9967831843578424, 0.021208152858677498, 0.006978770337612474, 0.9979641582785838, 0.9983311794848374, 0.06239569871780234, 0.0825932389331274, 0.9085256282644013, 0.03979728246717564, 0.9949320616793911, 0.06319649526233387, 0.947947428935008, 0.04671646669583269, 0.9810458006124865, 0.9041792658933125, 0.07862428399072283, 0.08263158656201451, 0.9915790387441741, 0.03465011169360591, 0.9702031274209656, 0.8787155644216141, 0.10983944555270177, 0.05115708536261344, 0.9719846218896553, 0.07668344002381214, 0.9202012802857457, 0.41106913456751515, 0.5960502451228971, 0.04669464205565326, 0.9338928411130653, 0.07161713390627499, 0.9310227407815748, 0.9757721751606031, 0.04242487718089579, 0.9685354807168968, 0.04612073717699509, 0.9490093454524711, 0.9400513527342551, 0.019188314212314126, 0.9786040248280204, 0.9744826359996009, 0.028661253999988263, 0.9683803507294216, 0.046113350034734366, 0.9546360689216877, 0.05303533716231598, 0.20101437997980656, 0.8040575199192262, 0.041326190242543075, 0.9918285658210338, 0.030698055541503858, 0.9823377773281234, 0.959625234239298, 0.05050659127575253, 0.992431286434259, 0.0084823186874723, 0.9720810765348445, 0.029457002319237712, 0.6901884180077529, 0.3155147053749728, 0.9431014814640084, 0.058943842591500525, 0.9913574428850084, 0.02305482425313973, 0.041326602007769934, 0.9918384481864785, 0.9846381639972736, 0.018935349307639876, 0.49508712764308654, 0.49508712764308654, 0.755791212512605, 0.22393813704077184, 0.9790122768933177, 0.04079217820388824, 0.9428827585947378, 0.05893017241217111, 0.94290299129153, 0.058931436955720624, 0.9428117713291518, 0.9642291358657702, 0.04821145679328851, 0.9981073648160974, 0.031190855150503044, 0.39067318132277024, 0.6168523915622688, 0.9007027749825194, 0.09650386874812707, 0.03466291193381849, 0.9705615341469178, 0.03357712252643384, 0.9737365532665814, 0.046716122302478305, 0.9810385683520445, 0.8237966271598253, 0.18601859322963796, 0.9764462226514623, 0.03367055940177456, 0.02904322436634478, 0.9874696284557225, 0.4222978154443547, 0.5774276251994237, 0.9384668687638169, 0.04080290733755726, 0.9659845059038309, 0.028411308997171494, 0.9818936528169266, 0.01963787305633853, 0.9683870323808862, 0.04611366820861363, 0.026863515528635577, 0.9939500745595163, 0.06319192423936543, 0.9478788635904815, 0.028278063010185792, 0.9897322053565027, 0.044768125098857685, 0.9848987521748691, 0.14305805030742463, 0.8583483018445479, 0.06714057855751904, 0.9399680998052665, 0.08134371473755529, 0.9273183480081304, 0.9642691204851699, 0.04821345602425849, 0.9944830951470615, 0.0662988730098041, 0.8849288058864705, 0.11504074476524116, 0.9526802578011659, 0.043303648081871184, 0.9641812450439462, 0.04820906225219731, 0.033572251828983476, 0.9735953030405209, 0.029042623312868478, 0.9874491926375283, 0.954608143372842, 0.053033785742935664, 0.8033535433747586, 0.21265240854037726, 0.9491345864234757, 0.055831446260204455, 0.042967582764995904, 0.9452868208299099, 0.9725282180225402, 0.044205828091933644, 0.08263005256675034, 0.991560630801004, 0.04475494217894936, 0.9398537857579367, 0.9596782646149843, 0.05050938234815707, 0.9900320157852788, 0.7525644005115565, 0.2595049656936402], \"Term\": [\"amazon\", \"amazon\", \"as\\u00ed\", \"as\\u00ed\", \"bastante\", \"bastante\", \"bien\", \"bien\", \"bonita\", \"bonita\", \"bonito\", \"bonito\", \"bonitos\", \"bonitos\", \"buen\", \"buen\", \"buena\", \"buena\", \"cable\", \"cable\", \"cadena\", \"caja\", \"caja\", \"calidad\", \"calidad\", \"caso\", \"caso\", \"cierre\", \"cierre\", \"colgante\", \"colgante\", \"collar\", \"collar\", \"color\", \"color\", \"comprar\", \"comprar\", \"contenta\", \"contenta\", \"demasiado\", \"demasiado\", \"despu\\u00e9s\", \"despu\\u00e9s\", \"dise\\u00f1o\", \"dise\\u00f1o\", \"dos\", \"dos\", \"d\\u00eda\", \"d\\u00eda\", \"d\\u00edas\", \"d\\u00edas\", \"encantado\", \"encantado\", \"entrega\", \"entrega\", \"env\\u00edo\", \"env\\u00edo\", \"espa\\u00f1ol\", \"fina\", \"foto\", \"foto\", \"funciona\", \"funciona\", \"gracias\", \"gracias\", \"gran\", \"gran\", \"grande\", \"grande\", \"grandes\", \"grandes\", \"gustado\", \"gustado\", \"hacer\", \"hacer\", \"juego\", \"juego\", \"jugar\", \"jugar\", \"llegado\", \"llegado\", \"llego\", \"llego\", \"lleg\\u00f3\", \"lleg\\u00f3\", \"mala\", \"mala\", \"mando\", \"mando\", \"mas\", \"mas\", \"mejor\", \"mejor\", \"menos\", \"menos\", \"muchas\", \"muchas\", \"ning\\u00fan\", \"ning\\u00fan\", \"nintendo\", \"nunca\", \"nunca\", \"original\", \"original\", \"parece\", \"parece\", \"pena\", \"pena\", \"pendientes\", \"pendientes\", \"peque\\u00f1o\", \"peque\\u00f1o\", \"peque\\u00f1os\", \"peque\\u00f1os\", \"perfectamente\", \"perfectamente\", \"perfecto\", \"perfecto\", \"plata\", \"plata\", \"precio\", \"precio\", \"problema\", \"problema\", \"producto\", \"producto\", \"puede\", \"puede\", \"puedo\", \"puedo\", \"pulsera\", \"pulsera\", \"q\", \"q\", \"queda\", \"queda\", \"quedan\", \"quedan\", \"recomiendo\", \"recomiendo\", \"regalar\", \"regalar\", \"regalo\", \"regalo\", \"r\\u00e1pido\", \"r\\u00e1pido\", \"servicio\", \"servicio\", \"si\", \"si\", \"solo\", \"solo\", \"switch\", \"switch\", \"tal\", \"tal\", \"tama\\u00f1o\", \"tama\\u00f1o\", \"tener\", \"tener\", \"tiempo\", \"tiempo\", \"todas\", \"todas\", \"uso\", \"uso\", \"va\", \"va\", \"van\", \"van\", \"ve\", \"ve\", \"vendedor\", \"vendedor\", \"versi\\u00f3n\", \"viene\", \"viene\"]}, \"R\": 30, \"lambda.step\": 0.01, \"plot.opts\": {\"xlab\": \"PC1\", \"ylab\": \"PC2\"}, \"topic.order\": [2, 1]};\n",
       "\n",
       "function LDAvis_load_lib(url, callback){\n",
       "  var s = document.createElement('script');\n",
       "  s.src = url;\n",
       "  s.async = true;\n",
       "  s.onreadystatechange = s.onload = callback;\n",
       "  s.onerror = function(){console.warn(\"failed to load library \" + url);};\n",
       "  document.getElementsByTagName(\"head\")[0].appendChild(s);\n",
       "}\n",
       "\n",
       "if(typeof(LDAvis) !== \"undefined\"){\n",
       "   // already loaded: just create the visualization\n",
       "   !function(LDAvis){\n",
       "       new LDAvis(\"#\" + \"ldavis_el1134421229919861205859706118\", ldavis_el1134421229919861205859706118_data);\n",
       "   }(LDAvis);\n",
       "}else if(typeof define === \"function\" && define.amd){\n",
       "   // require.js is available: use it to load d3/LDAvis\n",
       "   require.config({paths: {d3: \"https://cdnjs.cloudflare.com/ajax/libs/d3/3.5.5/d3.min\"}});\n",
       "   require([\"d3\"], function(d3){\n",
       "      window.d3 = d3;\n",
       "      LDAvis_load_lib(\"https://cdn.rawgit.com/bmabey/pyLDAvis/files/ldavis.v1.0.0.js\", function(){\n",
       "        new LDAvis(\"#\" + \"ldavis_el1134421229919861205859706118\", ldavis_el1134421229919861205859706118_data);\n",
       "      });\n",
       "    });\n",
       "}else{\n",
       "    // require.js not available: dynamically load d3 & LDAvis\n",
       "    LDAvis_load_lib(\"https://cdnjs.cloudflare.com/ajax/libs/d3/3.5.5/d3.min.js\", function(){\n",
       "         LDAvis_load_lib(\"https://cdn.rawgit.com/bmabey/pyLDAvis/files/ldavis.v1.0.0.js\", function(){\n",
       "                 new LDAvis(\"#\" + \"ldavis_el1134421229919861205859706118\", ldavis_el1134421229919861205859706118_data);\n",
       "            })\n",
       "         });\n",
       "}\n",
       "</script>"
      ],
      "text/plain": [
       "<IPython.core.display.HTML object>"
      ]
     },
     "execution_count": 8,
     "metadata": {},
     "output_type": "execute_result"
    }
   ],
   "source": [
    "#resultados\n",
    "lda_display = pyLDAvis.gensim.prepare(model, corpus, dictionary, sort_topics=True)\n",
    "pyLDAvis.display(lda_display)"
   ]
  },
  {
   "cell_type": "markdown",
   "metadata": {},
   "source": [
    "### En el tema 1 se encuentran las palabras relacionadas con video juegos.\n",
    "### En el tema 2 se encuentran las palabras relacionadas con joyeria."
   ]
  },
  {
   "cell_type": "code",
   "execution_count": null,
   "metadata": {},
   "outputs": [],
   "source": []
  }
 ],
 "metadata": {
  "kernelspec": {
   "display_name": "Python 3",
   "language": "python",
   "name": "python3"
  },
  "language_info": {
   "codemirror_mode": {
    "name": "ipython",
    "version": 3
   },
   "file_extension": ".py",
   "mimetype": "text/x-python",
   "name": "python",
   "nbconvert_exporter": "python",
   "pygments_lexer": "ipython3",
   "version": "3.7.4"
  }
 },
 "nbformat": 4,
 "nbformat_minor": 2
}
