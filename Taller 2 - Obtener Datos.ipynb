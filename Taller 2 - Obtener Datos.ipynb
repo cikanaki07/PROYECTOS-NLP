{
 "cells": [
  {
   "cell_type": "markdown",
   "metadata": {},
   "source": [
    "# Procesamiento de Lenguaje Natural\n",
    "## Taller 2: Adquisición de textos"
   ]
  },
  {
   "cell_type": "markdown",
   "metadata": {},
   "source": [
    "## PUNTO 1\n",
    "### Descomprimir el archivo .zip de los poemas\n"
   ]
  },
  {
   "cell_type": "code",
   "execution_count": 1,
   "metadata": {},
   "outputs": [],
   "source": [
    "#importar .zip\n",
    "import os\n",
    "from zipfile import ZipFile"
   ]
  },
  {
   "cell_type": "code",
   "execution_count": 2,
   "metadata": {},
   "outputs": [],
   "source": [
    "archivo_ZIP=\"poemas.zip\"\n",
    "with ZipFile(archivo_ZIP) as archivo:\n",
    "    archivo.extractall(\"archivo/\")"
   ]
  },
  {
   "cell_type": "markdown",
   "metadata": {},
   "source": [
    "### Leer cada uno de sus archivos y responder ¿Cuál archivo tiene el mayor número de palabras?"
   ]
  },
  {
   "cell_type": "code",
   "execution_count": 3,
   "metadata": {},
   "outputs": [],
   "source": [
    "import pandas as pd\n"
   ]
  },
  {
   "cell_type": "code",
   "execution_count": 6,
   "metadata": {},
   "outputs": [
    {
     "name": "stdout",
     "output_type": "stream",
     "text": [
      "El Archivo: A un general (Julio Corta╠üzar).txt contiene 46 palabras\n",
      "El Archivo: Aqui╠ü (Octavio Paz).txt contiene 23 palabras\n",
      "El Archivo: Si╠ündrome (Mario Benedetti).txt contiene 53 palabras\n"
     ]
    }
   ],
   "source": [
    "for raiz,dirs, archivos in os.walk('archivo/poemas'):\n",
    "    for archivo in archivos:\n",
    "        ruta=raiz+\"/\"+archivo\n",
    "        with open(ruta) as archivos:\n",
    "            data = archivos.read()\n",
    "            listaPalabras = data.split()\n",
    "            print(\"El Archivo: \"+ str(archivo) +\" contiene \"+ str(len(listaPalabras)) +\" palabras\")"
   ]
  },
  {
   "cell_type": "markdown",
   "metadata": {},
   "source": [
    "#### El mayor numero de palabras lo tiene el archivo:\n",
    " \"Si╠ündrome (Mario Benedetti).txt\""
   ]
  },
  {
   "cell_type": "markdown",
   "metadata": {},
   "source": [
    "## Punto 2"
   ]
  },
  {
   "cell_type": "markdown",
   "metadata": {},
   "source": [
    "### Hacer Web Scraping de 10 biografías en Wikipedia (en búcle)"
   ]
  },
  {
   "cell_type": "code",
   "execution_count": 37,
   "metadata": {},
   "outputs": [],
   "source": [
    "#import libreria request\n",
    "import urllib.request\n",
    "import bs4 as bs"
   ]
  },
  {
   "cell_type": "code",
   "execution_count": 41,
   "metadata": {},
   "outputs": [
    {
     "data": {
      "text/plain": [
       "['https://es.wikipedia.org/wiki/John_Lennon',\n",
       " 'https://es.wikipedia.org/wiki/Bon_Jovi',\n",
       " 'https://es.wikipedia.org/wiki/Freddie_Mercury',\n",
       " 'https://es.wikipedia.org/wiki/Andr%C3%A9s_Calamaro',\n",
       " 'https://es.wikipedia.org/wiki/Sergio_Ramos',\n",
       " 'https://es.wikipedia.org/wiki/Akira_Toriyama',\n",
       " 'https://es.wikipedia.org/wiki/Gustavo_Petro',\n",
       " 'https://es.wikipedia.org/wiki/Lionel_Messi',\n",
       " 'https://es.wikipedia.org/wiki/Shakira',\n",
       " 'https://es.wikipedia.org/wiki/Fernando_Botero']"
      ]
     },
     "execution_count": 41,
     "metadata": {},
     "output_type": "execute_result"
    }
   ],
   "source": [
    "biografias=[\"https://es.wikipedia.org/wiki/John_Lennon\",\"https://es.wikipedia.org/wiki/Bon_Jovi\",\"https://es.wikipedia.org/wiki/Freddie_Mercury\",\"https://es.wikipedia.org/wiki/Andr%C3%A9s_Calamaro\",\"https://es.wikipedia.org/wiki/Sergio_Ramos\",\"https://es.wikipedia.org/wiki/Akira_Toriyama\",\"https://es.wikipedia.org/wiki/Gustavo_Petro\",\"https://es.wikipedia.org/wiki/Lionel_Messi\",\"https://es.wikipedia.org/wiki/Shakira\",\"https://es.wikipedia.org/wiki/Fernando_Botero\"]\n",
    "biografias"
   ]
  },
  {
   "cell_type": "markdown",
   "metadata": {},
   "source": [
    "### Obtener el encabezado de cada biografía"
   ]
  },
  {
   "cell_type": "code",
   "execution_count": 43,
   "metadata": {},
   "outputs": [
    {
     "name": "stdout",
     "output_type": "stream",
     "text": [
      "['John Lennon']\n",
      "['Bon Jovi']\n",
      "['Freddie Mercury']\n",
      "['Andrés Calamaro']\n",
      "['Sergio Ramos']\n",
      "['Akira Toriyama']\n",
      "['Gustavo Petro']\n",
      "['Lionel Messi']\n",
      "['Shakira']\n",
      "['Fernando Botero']\n"
     ]
    }
   ],
   "source": [
    "for B in biografias:    \n",
    "    request=urllib.request.urlopen(B)\n",
    "    fuente=request.read()\n",
    "    request.close()\n",
    "    soup=bs.BeautifulSoup(fuente,'html.parser')\n",
    "    print(soup.find(id='firstHeading').contents)"
   ]
  },
  {
   "cell_type": "markdown",
   "metadata": {},
   "source": [
    "### Obtener todos los contenidos y etiquetas de título asociados a los links del primer párrafo"
   ]
  },
  {
   "cell_type": "code",
   "execution_count": 42,
   "metadata": {},
   "outputs": [
    {
     "name": "stdout",
     "output_type": "stream",
     "text": [
      "['John Lennon']\n",
      "['Liverpool']-Liverpool\n",
      "['9 de octubre']-9 de octubre\n",
      "['1940']-1940\n",
      "['Nueva York']-Nueva York\n",
      "['8 de diciembre']-8 de diciembre\n",
      "['1980']-1980\n",
      "['artista']-Artista\n",
      "['músico']-Músico\n",
      "['multinstrumentista']-Multinstrumentista\n",
      "['cantautor']-Cantautor\n",
      "['compositor']-Compositor\n",
      "['poeta']-Poeta\n",
      "['dibujante']-Dibujante\n",
      "['escritor']-Escritor\n",
      "['pacifista']-Pacifista\n",
      "['activista']-Activista\n",
      "['actor']-Actor\n",
      "['inglés']-Inglaterra\n",
      "['banda']-Banda de música\n",
      "['rock']-Rock\n",
      "['The Beatles']-The Beatles\n",
      "****************************************************************************************************\n",
      "['Bon Jovi']\n",
      "['rock']-Rock\n",
      "['Nueva Jersey']-Nueva Jersey\n",
      "['Estados Unidos']-Estados Unidos\n",
      "['Jon Bon Jovi']-Jon Bon Jovi\n",
      "[<span class=\"corchete-llamada\">[</span>, '6', <span class=\"corchete-llamada\">]</span>]-None\n",
      "['David Bryan']-David Bryan\n",
      "['Tico Torres']-Tico Torres\n",
      "['Hugh McDonald']-Hugh McDonald\n",
      "['Phil X']-Phil X\n",
      "[<span class=\"corchete-llamada\">[</span>, '7', <span class=\"corchete-llamada\">]</span>]-None\n",
      "[<span class=\"corchete-llamada\">[</span>, '8', <span class=\"corchete-llamada\">]</span>]-None\n",
      "['Salón de la Fama del Rock and Roll']-Salón de la Fama del Rock and Roll\n",
      "[<span class=\"corchete-llamada\">[</span>, '9', <span class=\"corchete-llamada\">]</span>]-None\n",
      "[<span class=\"corchete-llamada\">[</span>, '10', <span class=\"corchete-llamada\">]</span>]-None\n",
      "[<span class=\"corchete-llamada\">[</span>, '11', <span class=\"corchete-llamada\">]</span>]-None\n",
      "****************************************************************************************************\n",
      "['Freddie Mercury']\n",
      "[<span class=\"corchete-llamada\">[</span>, '2', <span class=\"corchete-llamada\">]</span>]-None\n",
      "[<span class=\"corchete-llamada\">[</span>, '3', <span class=\"corchete-llamada\">]</span>]-None\n",
      "['Stone Town']-Stone Town\n",
      "['Zanzíbar']-Zanzíbar\n",
      "['5 de septiembre']-5 de septiembre\n",
      "['1946']-1946\n",
      "['Kensington']-Kensington\n",
      "['Londres']-Londres\n",
      "['24 de noviembre']-24 de noviembre\n",
      "['1991']-1991\n",
      "['cantante']-Cantante\n",
      "['compositor']-Compositor\n",
      "['pianista']-Pianista\n",
      "['diseñador gráfico']-Diseñador gráfico\n",
      "[<span class=\"corchete-llamada\">[</span>, '1', <span class=\"corchete-llamada\">]</span>]-None\n",
      "['músico']-Músico\n",
      "['británico']-Reino Unido\n",
      "['parsi']-Parsi\n",
      "['indio']-India\n",
      "[<span class=\"corchete-llamada\">[</span>, '4', <span class=\"corchete-llamada\">]</span>]-None\n",
      "['rock']-Rock\n",
      "['Queen']-Queen\n",
      "****************************************************************************************************\n",
      "['Andrés Calamaro']\n",
      "['Buenos Aires']-Ciudad de Buenos Aires\n",
      "['22 de agosto']-22 de agosto\n",
      "['1961']-1961\n",
      "['cantautor']-Cantante\n",
      "['músico']-Músico\n",
      "['compositor']-Compositor\n",
      "['productor discográfico']-Productor discográfico\n",
      "['argentino']-Argentino\n",
      "['rock argentino']-Rock de Argentina\n",
      "['Los Abuelos de la Nada']-Los Abuelos de la Nada\n",
      "['rock español']-Rock de España\n",
      "['Los Rodríguez']-Los Rodríguez\n",
      "[<span class=\"corchete-llamada\">[</span>, '2', <span class=\"corchete-llamada\">]</span>]-None\n",
      "['Madrid']-Madrid\n",
      "['Javier Calamaro']-Javier Calamaro\n",
      "****************************************************************************************************\n",
      "['Sergio Ramos']\n",
      "['Camas']-Camas\n",
      "['Sevilla']-Provincia de Sevilla\n",
      "['España']-España\n",
      "['futbolista']-Fútbol\n",
      "['español']-España\n",
      "['defensa']-Defensa (fútbol)\n",
      "['Real Madrid C. F.']-Real Madrid Club de Fútbol\n",
      "['Primera División de España']-Primera División de España\n",
      "****************************************************************************************************\n",
      "['Akira Toriyama']\n",
      "[<span class=\"t_nihongo_icon\" style=\"color:DarkBlue;font:bold 80% sans-serif;text-decoration:none;padding:0 .1em;\">?</span>]-Ayuda:Idioma japonés\n",
      "['Nagoya']-Nagoya\n",
      "['mangaka']-Mangaka\n",
      "['japonés']-Japón\n",
      "['Dr. Slump']-Dr. Slump\n",
      "['Dragon Ball']-Dragon Ball\n",
      "['Dragon Quest']-Dragon Quest\n",
      "['Chrono Trigger']-Chrono Trigger\n",
      "['Blue Dragon']-Blue Dragon\n",
      "****************************************************************************************************\n",
      "['Gustavo Petro']\n",
      "['Ciénaga de Oro']-Ciénaga de Oro\n",
      "['Córdoba']-Córdoba (Colombia)\n",
      "['19 de abril']-19 de abril\n",
      "['1960']-1960\n",
      "['político']-Político\n",
      "['economista']-Economista\n",
      "['colombiano']-Colombiano\n",
      "['italiana']-Italia\n",
      "[<span class=\"corchete-llamada\">[</span>, '1', <span class=\"corchete-llamada\">]</span>]-None\n",
      "[<span class=\"corchete-llamada\">[</span>, '2', <span class=\"corchete-llamada\">]</span>]-None\n",
      "['M-19']-M-19\n",
      "['Senador de la República']-Senado de la República de Colombia\n",
      "['Colombia Humana']-Colombia Humana\n",
      "['para la presidencia de Colombia']-Elecciones presidenciales de Colombia\n",
      "['2010']-Elecciones presidenciales de Colombia de 2010\n",
      "['2018']-Elecciones presidenciales de Colombia de 2018\n",
      "[<span class=\"corchete-llamada\">[</span>, '3', <span class=\"corchete-llamada\">]</span>]-None\n",
      "['Corte Interamericana de Derechos Humanos']-Corte Interamericana de Derechos Humanos\n",
      "[<span class=\"corchete-llamada\">[</span>, '4', <span class=\"corchete-llamada\">]</span>]-None\n",
      "****************************************************************************************************\n",
      "['Lionel Messi']\n",
      "['Rosario']-Rosario (Argentina)\n",
      "['Santa Fe']-Provincia de Santa Fe\n",
      "['24 de junio']-24 de junio\n",
      "['1987']-1987\n",
      "[<span class=\"corchete-llamada\">[</span>, '7', <span class=\"corchete-llamada\">]</span>]-None\n",
      "['delantero']-Delantero\n",
      "['centrocampista']-Centrocampista\n",
      "[<span class=\"corchete-llamada\">[</span>, '8', <span class=\"corchete-llamada\">]</span>]-None\n",
      "[<span class=\"corchete-llamada\">[</span>, '9', <span class=\"corchete-llamada\">]</span>]-None\n",
      "['F. C. Barcelona']-Fútbol Club Barcelona\n",
      "['Primera División de España']-Primera División de España\n",
      "['selección de Argentina']-Selección de fútbol de Argentina\n",
      "['capitán']-Capitán (fútbol)\n",
      "[<span class=\"corchete-llamada\">[</span>, '10', <span class=\"corchete-llamada\">]</span>]-None\n",
      "[<span class=\"corchete-llamada\">[</span>, '11', <span class=\"corchete-llamada\">]</span>]-None\n",
      "****************************************************************************************************\n",
      "['Shakira']\n",
      "[<span class=\"corchete-llamada\">[</span>, '1', <span class=\"corchete-llamada\">]</span>]-None\n",
      "[<span class=\"corchete-llamada\">[</span>, '4', <span class=\"corchete-llamada\">]</span>]-None\n",
      "['Barranquilla']-Barranquilla\n",
      "['Colombia']-Colombia\n",
      "['2 de febrero']-2 de febrero\n",
      "['1977']-1977\n",
      "['cantautora']-Cantautor\n",
      "['productora discográfica']-Productor discográfico\n",
      "['bailarina']-Danza\n",
      "['empresaria']-Empresario\n",
      "['UNICEF']-UNICEF\n",
      "['filántropa']-Filantropía\n",
      "['colombiana']-Nacionalidad colombiana\n",
      "[<span class=\"corchete-llamada\">[</span>, '5', <span class=\"corchete-llamada\">]</span>]-None\n",
      "****************************************************************************************************\n",
      "['Fernando Botero']\n",
      "['Medellín']-Medellín (Antioquia)\n",
      "['pintor']-Pintura artística\n",
      "['escultor']-Escultor\n",
      "['dibujante']-Dibujante\n",
      "['París']-París\n",
      "['Mónaco']-Mónaco\n",
      "['Nueva York']-Nueva York\n",
      "[<span class=\"corchete-llamada\">[</span>, '1', <span class=\"corchete-llamada\">]</span>]-None\n",
      "****************************************************************************************************\n"
     ]
    }
   ],
   "source": [
    "for B in biografias:    \n",
    "    request=urllib.request.urlopen(B)\n",
    "    fuente=request.read()\n",
    "    request.close()\n",
    "    soup=bs.BeautifulSoup(fuente,'html.parser')\n",
    "    print(soup.find(id='firstHeading').contents)    \n",
    "    for etiqueta in soup.find(id='mw-content-text').find('p').find_all('a'):        \n",
    "        print(str(etiqueta.contents) +\"-\"+ str(etiqueta.get('title')))\n",
    "    print(\"*\"*100)\n"
   ]
  }
 ],
 "metadata": {
  "kernelspec": {
   "display_name": "Python 3",
   "language": "python",
   "name": "python3"
  },
  "language_info": {
   "codemirror_mode": {
    "name": "ipython",
    "version": 3
   },
   "file_extension": ".py",
   "mimetype": "text/x-python",
   "name": "python",
   "nbconvert_exporter": "python",
   "pygments_lexer": "ipython3",
   "version": "3.8.3"
  }
 },
 "nbformat": 4,
 "nbformat_minor": 4
}
