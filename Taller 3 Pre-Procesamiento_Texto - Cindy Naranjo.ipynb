{
 "cells": [
  {
   "cell_type": "markdown",
   "metadata": {},
   "source": [
    "# Procesamiento de Lenguage Natural\n",
    "## Taller #3: Pre-Procesamiento de Textos\n",
    "### CINDY NARANJO QUIROGA"
   ]
  },
  {
   "cell_type": "markdown",
   "metadata": {},
   "source": [
    "## Punto 1:\n",
    "\n",
    "Leer el archivo UNA_SOLITARIA_VOZ_HUMANA.txt con with open"
   ]
  },
  {
   "cell_type": "code",
   "execution_count": 1,
   "metadata": {},
   "outputs": [],
   "source": [
    "import pandas as pd"
   ]
  },
  {
   "cell_type": "code",
   "execution_count": 2,
   "metadata": {},
   "outputs": [
    {
     "data": {
      "text/plain": [
       "'UNA SOLITARIA VOZ HUMANA\\n\\xa0\\xa0\\xa0\\xa0No sé de qué hablar… ¿De la muerte o del amor? ¿O es lo mismo? ¿De qué?\\n\\xa0\\xa0\\xa0\\xa0Nos habíamos casado no hacía mucho. Aún íbamos por la calle agarrados de la mano, hasta cuando íbamos de compras. Siempre juntos. Yo le decía: «Te quiero». Pero aún no sabía cuánto le quería. Ni me lo imaginaba… Vivíamos en la residencia de la unidad de bomberos, donde él trabajaba. En el piso de arriba. Junto a otras tres familias jóvenes, con una sola cocina para todos. Y en el bajo estaban los coches. Unos camiones de bomberos rojos. Este era su trabajo. Yo siempre estaba al corriente: dónde se encontraba, qué le pasaba…\\n\\xa0\\xa0\\xa0\\xa0En mitad de la noche oí un ruido. Gritos. Miré por la ventana. Él me vio:\\n\\xa0\\xa0\\xa0\\xa0—Cierra las ventanillas y acuéstate. Hay un incendio en la central. Volveré pronto.\\n\\xa0\\xa0\\xa0\\xa0No vi la explosión. Solo las llamas. Todo parecía iluminado. El cielo entero… Unas llamas altas. Y hollín. Un calor horroroso. Y él seguía sin regresar. El hollín se debía a que ardía el alquitrán; el techo de la central estaba cubierto de asfalto. Sobre el que la gente andaba, como él después recordaría, como si fuera resina. Sofocaban las llamas y él, mientras, reptaba. Subía hacia el reactor. Tiraban el grafito ardiente con los pies… Acudieron allí sin los trajes de lona; se fueron para allá tal como iban, en camisa. Nadie les advirtió; era un aviso de un incendio normal.\\n\\xa0\\xa0\\xa0\\xa0Las cuatro… Las cinco… Las seis… A las seis teníamos la intención de ir a ver a sus padres. Para plantar patatas. Desde la ciudad de Prípiat hasta la aldea de Sperizhie, donde vivían sus padres, hay 40 kilómetros. Íbamos a sembrar, a arar. Era su trabajo favorito… Su madre recordaba a menudo que ni ella ni su padre querían dejarlo marchar a la ciudad; incluso le construyeron una casa nueva.\\n\\xa0\\xa0\\xa0\\xa0Pero se lo llevaron al ejército. Sirvió en Moscú, en las tropas de bomberos, y cuando regresó, solo quería ser bombero. Ninguna otra cosa. [ Calla .]\\n\\xa0\\xa0\\xa0\\xa0A veces me parece oír su voz… Oírle vivo… Ni siquiera las fotografías me producen tanto efecto como la voz. Pero nunca me llama… Ni en sueños… Soy yo quien lo llama a él…\\n\\xa0\\xa0\\xa0\\xa0Las siete… A las siete me comunicaron que estaba en el hospital. Corrí hacia allí, pero el hospital ya estaba acordonado por la milicia; no dejaban pasar a nadie. Solo entraban las ambulancias. Los milicianos gritaban: «Los coches están irradiados, no os acerquéis». No sólo yo, vinieron todas las mujeres, todas cuyos maridos habían estado aquella noche en la central.\\n\\xa0\\xa0\\xa0\\xa0Corrí en busca de una conocida que trabajaba como médico en aquel hospital. La agarré de la bata cuando salía de un coche:\\n\\xa0\\xa0\\xa0\\xa0—¡Déjame pasar!\\n\\xa0\\xa0\\xa0\\xa0—¡No puedo! Está mal. Todos están mal.\\n\\xa0\\xa0\\xa0\\xa0Yo la tenía agarrada:\\n\\xa0\\xa0\\xa0\\xa0—Solo quiero verlo.\\n\\xa0\\xa0\\xa0\\xa0—Bueno —me dice—, corre. Quince o veinte minutos.\\n\\xa0\\xa0\\xa0\\xa0Lo vi… Estaba hinchado, todo inflamado… Casi no tenía ojos…\\n\\xa0\\xa0\\xa0\\xa0—¡Leche! ¡Mucha leche! —me dijo mi conocida—. Que beba al menos tres litros.\\n\\xa0\\xa0\\xa0\\xa0—Él no toma leche.\\n\\xa0\\xa0\\xa0\\xa0—Pues ahora la tendrá que beber.\\n\\xa0\\xa0\\xa0\\xa0Muchos médicos, enfermeras y, especialmente, las auxiliares de aquel hospital, al cabo de un tiempo, se pondrían enfermas. Morirían… Pero entonces nadie lo sabía.\\n\\xa0\\xa0\\xa0\\xa0A las diez de la mañana murió el técnico Shishenok. Fue el primero… El primer día… Luego supimos que, bajo los escombros, se había quedado otro… Valera Jodemchuk. No lograron sacarlo. Lo emparedaron con el hormigón. Pero entonces aún no sabíamos que todos ellos serían solo los primeros…\\n\\xa0\\xa0\\xa0\\xa0Le pregunto:\\n\\xa0\\xa0\\xa0\\xa0—Vasia [3] , ¿qué hago?\\n\\xa0\\xa0\\xa0\\xa0—¡Vete de aquí! ¡Vete! Estás esperando un niño.\\n\\xa0\\xa0\\xa0\\xa0—Estoy embarazada, es cierto. Pero ¿cómo lo voy a dejar?\\n\\xa0\\xa0\\xa0\\xa0Él me pide:\\n\\xa0\\xa0\\xa0\\xa0—¡Vete! ¡Salva al crío!\\n\\xa0\\xa0\\xa0\\xa0—Primero te tengo que traer leche, y luego ya veremos.\\n\\xa0\\xa0\\xa0\\xa0Llega mi amiga Tania Kibenok. Su marido está en la misma sala. Ha venido con su padre, que tiene coche. Nos subimos al coche y vamos a la aldea más cercana a por leche. A unos tres kilómetros de la ciudad. Compramos muchas garrafas de tres litros de leche. Seis, para que hubiera para todos. Pero la leche les provocaba unos vómitos terribles. Perdían el sentido sin parar y les pusieron el gota a gota. Los médicos nos aseguraban, no sé por qué, que se habían envenenado con los gases, nadie hablaba de la radiación.\\n\\xa0\\xa0\\xa0\\xa0Entretanto, la ciudad se llenó de vehículos militares, se cerraron todas las carreteras… Se veían soldados por todas partes. Dejaron de circular los trenes de cercanías, los expresos… Lavaban las calles con un polvo blanco… Me alarmé: ¿cómo iba a conseguir llegar al pueblo al día siguiente para comprarle leche fresca? Nadie hablaba de la radiación… Solo los militares iban con caretas. La gente de la ciudad llevaba su pan de las tiendas, las bolsas abiertas con los bollos. En los estantes había pasteles… La vida seguía como de costumbre. Solo… lavaban las calles con un polvo…\\n\\xa0\\xa0\\xa0\\xa0Por la noche no me dejaron entrar en el hospital… Había un mar de gente en los alrededores. Yo estaba frente a su ventana; él se acercó a ella y me gritó algo. ¡Se le veía tan desesperado! Entre la muchedumbre, alguien entendió lo que decía: que aquella noche se los llevaban a Moscú. Todas las esposas nos arremolinamos en un corro. Y decidimos: nos vamos con ellos. ¡Dejadnos estar con nuestros maridos! ¡No tenéis derecho! Quisimos abrirnos paso a golpes, a arañazos. Los soldados…, los soldados ya habían formado un doble cordón y nos impedían pasar a empujones. Entonces salió el médico y nos confirmó que se los llevaban aquella misma noche en avión a Moscú; que debíamos traerles ropa; la que llevaban en la central se había quemado. Los autobuses ya no funcionaban, y fuimos a pie, corriendo, a casa. Cuando volvimos con las bolsas, el avión ya se había marchado… Nos engañaron a propósito. Para que no gritáramos, ni lloráramos…\\n\\n—————\\nFragmento de Voces de Chernóbil\\nPor Svetlana Alexievich'"
      ]
     },
     "execution_count": 2,
     "metadata": {},
     "output_type": "execute_result"
    }
   ],
   "source": [
    "with open(\"UNA_SOLITARIA_VOZ_HUMANA.txt\", encoding=\"utf-8\") as archivo:\n",
    "    data = archivo.read()\n",
    "    \n",
    "data"
   ]
  },
  {
   "cell_type": "markdown",
   "metadata": {},
   "source": [
    " ### Convertir a minúsculas"
   ]
  },
  {
   "cell_type": "code",
   "execution_count": 3,
   "metadata": {},
   "outputs": [
    {
     "data": {
      "text/plain": [
       "'una solitaria voz humana\\n\\xa0\\xa0\\xa0\\xa0no sé de qué hablar… ¿de la muerte o del amor? ¿o es lo mismo? ¿de qué?\\n\\xa0\\xa0\\xa0\\xa0nos habíamos casado no hacía mucho. aún íbamos por la calle agarrados de la mano, hasta cuando íbamos de compras. siempre juntos. yo le decía: «te quiero». pero aún no sabía cuánto le quería. ni me lo imaginaba… vivíamos en la residencia de la unidad de bomberos, donde él trabajaba. en el piso de arriba. junto a otras tres familias jóvenes, con una sola cocina para todos. y en el bajo estaban los coches. unos camiones de bomberos rojos. este era su trabajo. yo siempre estaba al corriente: dónde se encontraba, qué le pasaba…\\n\\xa0\\xa0\\xa0\\xa0en mitad de la noche oí un ruido. gritos. miré por la ventana. él me vio:\\n\\xa0\\xa0\\xa0\\xa0—cierra las ventanillas y acuéstate. hay un incendio en la central. volveré pronto.\\n\\xa0\\xa0\\xa0\\xa0no vi la explosión. solo las llamas. todo parecía iluminado. el cielo entero… unas llamas altas. y hollín. un calor horroroso. y él seguía sin regresar. el hollín se debía a que ardía el alquitrán; el techo de la central estaba cubierto de asfalto. sobre el que la gente andaba, como él después recordaría, como si fuera resina. sofocaban las llamas y él, mientras, reptaba. subía hacia el reactor. tiraban el grafito ardiente con los pies… acudieron allí sin los trajes de lona; se fueron para allá tal como iban, en camisa. nadie les advirtió; era un aviso de un incendio normal.\\n\\xa0\\xa0\\xa0\\xa0las cuatro… las cinco… las seis… a las seis teníamos la intención de ir a ver a sus padres. para plantar patatas. desde la ciudad de prípiat hasta la aldea de sperizhie, donde vivían sus padres, hay 40 kilómetros. íbamos a sembrar, a arar. era su trabajo favorito… su madre recordaba a menudo que ni ella ni su padre querían dejarlo marchar a la ciudad; incluso le construyeron una casa nueva.\\n\\xa0\\xa0\\xa0\\xa0pero se lo llevaron al ejército. sirvió en moscú, en las tropas de bomberos, y cuando regresó, solo quería ser bombero. ninguna otra cosa. [ calla .]\\n\\xa0\\xa0\\xa0\\xa0a veces me parece oír su voz… oírle vivo… ni siquiera las fotografías me producen tanto efecto como la voz. pero nunca me llama… ni en sueños… soy yo quien lo llama a él…\\n\\xa0\\xa0\\xa0\\xa0las siete… a las siete me comunicaron que estaba en el hospital. corrí hacia allí, pero el hospital ya estaba acordonado por la milicia; no dejaban pasar a nadie. solo entraban las ambulancias. los milicianos gritaban: «los coches están irradiados, no os acerquéis». no sólo yo, vinieron todas las mujeres, todas cuyos maridos habían estado aquella noche en la central.\\n\\xa0\\xa0\\xa0\\xa0corrí en busca de una conocida que trabajaba como médico en aquel hospital. la agarré de la bata cuando salía de un coche:\\n\\xa0\\xa0\\xa0\\xa0—¡déjame pasar!\\n\\xa0\\xa0\\xa0\\xa0—¡no puedo! está mal. todos están mal.\\n\\xa0\\xa0\\xa0\\xa0yo la tenía agarrada:\\n\\xa0\\xa0\\xa0\\xa0—solo quiero verlo.\\n\\xa0\\xa0\\xa0\\xa0—bueno —me dice—, corre. quince o veinte minutos.\\n\\xa0\\xa0\\xa0\\xa0lo vi… estaba hinchado, todo inflamado… casi no tenía ojos…\\n\\xa0\\xa0\\xa0\\xa0—¡leche! ¡mucha leche! —me dijo mi conocida—. que beba al menos tres litros.\\n\\xa0\\xa0\\xa0\\xa0—él no toma leche.\\n\\xa0\\xa0\\xa0\\xa0—pues ahora la tendrá que beber.\\n\\xa0\\xa0\\xa0\\xa0muchos médicos, enfermeras y, especialmente, las auxiliares de aquel hospital, al cabo de un tiempo, se pondrían enfermas. morirían… pero entonces nadie lo sabía.\\n\\xa0\\xa0\\xa0\\xa0a las diez de la mañana murió el técnico shishenok. fue el primero… el primer día… luego supimos que, bajo los escombros, se había quedado otro… valera jodemchuk. no lograron sacarlo. lo emparedaron con el hormigón. pero entonces aún no sabíamos que todos ellos serían solo los primeros…\\n\\xa0\\xa0\\xa0\\xa0le pregunto:\\n\\xa0\\xa0\\xa0\\xa0—vasia [3] , ¿qué hago?\\n\\xa0\\xa0\\xa0\\xa0—¡vete de aquí! ¡vete! estás esperando un niño.\\n\\xa0\\xa0\\xa0\\xa0—estoy embarazada, es cierto. pero ¿cómo lo voy a dejar?\\n\\xa0\\xa0\\xa0\\xa0él me pide:\\n\\xa0\\xa0\\xa0\\xa0—¡vete! ¡salva al crío!\\n\\xa0\\xa0\\xa0\\xa0—primero te tengo que traer leche, y luego ya veremos.\\n\\xa0\\xa0\\xa0\\xa0llega mi amiga tania kibenok. su marido está en la misma sala. ha venido con su padre, que tiene coche. nos subimos al coche y vamos a la aldea más cercana a por leche. a unos tres kilómetros de la ciudad. compramos muchas garrafas de tres litros de leche. seis, para que hubiera para todos. pero la leche les provocaba unos vómitos terribles. perdían el sentido sin parar y les pusieron el gota a gota. los médicos nos aseguraban, no sé por qué, que se habían envenenado con los gases, nadie hablaba de la radiación.\\n\\xa0\\xa0\\xa0\\xa0entretanto, la ciudad se llenó de vehículos militares, se cerraron todas las carreteras… se veían soldados por todas partes. dejaron de circular los trenes de cercanías, los expresos… lavaban las calles con un polvo blanco… me alarmé: ¿cómo iba a conseguir llegar al pueblo al día siguiente para comprarle leche fresca? nadie hablaba de la radiación… solo los militares iban con caretas. la gente de la ciudad llevaba su pan de las tiendas, las bolsas abiertas con los bollos. en los estantes había pasteles… la vida seguía como de costumbre. solo… lavaban las calles con un polvo…\\n\\xa0\\xa0\\xa0\\xa0por la noche no me dejaron entrar en el hospital… había un mar de gente en los alrededores. yo estaba frente a su ventana; él se acercó a ella y me gritó algo. ¡se le veía tan desesperado! entre la muchedumbre, alguien entendió lo que decía: que aquella noche se los llevaban a moscú. todas las esposas nos arremolinamos en un corro. y decidimos: nos vamos con ellos. ¡dejadnos estar con nuestros maridos! ¡no tenéis derecho! quisimos abrirnos paso a golpes, a arañazos. los soldados…, los soldados ya habían formado un doble cordón y nos impedían pasar a empujones. entonces salió el médico y nos confirmó que se los llevaban aquella misma noche en avión a moscú; que debíamos traerles ropa; la que llevaban en la central se había quemado. los autobuses ya no funcionaban, y fuimos a pie, corriendo, a casa. cuando volvimos con las bolsas, el avión ya se había marchado… nos engañaron a propósito. para que no gritáramos, ni lloráramos…\\n\\n—————\\nfragmento de voces de chernóbil\\npor svetlana alexievich'"
      ]
     },
     "execution_count": 3,
     "metadata": {},
     "output_type": "execute_result"
    }
   ],
   "source": [
    "texto = data.lower()\n",
    "texto"
   ]
  },
  {
   "cell_type": "markdown",
   "metadata": {},
   "source": [
    "### Conservar sólo palabras"
   ]
  },
  {
   "cell_type": "code",
   "execution_count": 4,
   "metadata": {},
   "outputs": [
    {
     "data": {
      "text/plain": [
       "'una solitaria voz humana no sé de qué hablar de la muerte o del amor o es lo mismo de qué nos habíamos casado no hacía mucho aún íbamos por la calle agarrados de la mano hasta cuando íbamos de compras siempre juntos yo le decía te quiero pero aún no sabía cuánto le quería ni me lo imaginaba vivíamos en la residencia de la unidad de bomberos donde él trabajaba en el piso de arriba junto a otras tres familias jóvenes con una sola cocina para todos y en el bajo estaban los coches unos camiones de bomberos rojos este era su trabajo yo siempre estaba al corriente dónde se encontraba qué le pasaba en mitad de la noche oí un ruido gritos miré por la ventana él me vio cierra las ventanillas y acuéstate hay un incendio en la central volveré pronto no vi la explosión solo las llamas todo parecía iluminado el cielo entero unas llamas altas y hollín un calor horroroso y él seguía sin regresar el hollín se debía a que ardía el alquitrán el techo de la central estaba cubierto de asfalto sobre el que la gente andaba como él después recordaría como si fuera resina sofocaban las llamas y él mientras reptaba subía hacia el reactor tiraban el grafito ardiente con los pies acudieron allí sin los trajes de lona se fueron para allá tal como iban en camisa nadie les advirtió era un aviso de un incendio normal las cuatro las cinco las seis a las seis teníamos la intención de ir a ver a sus padres para plantar patatas desde la ciudad de prípiat hasta la aldea de sperizhie donde vivían sus padres hay kilómetros íbamos a sembrar a arar era su trabajo favorito su madre recordaba a menudo que ni ella ni su padre querían dejarlo marchar a la ciudad incluso le construyeron una casa nueva pero se lo llevaron al ejército sirvió en moscú en las tropas de bomberos y cuando regresó solo quería ser bombero ninguna otra cosa calla a veces me parece oír su voz oírle vivo ni siquiera las fotografías me producen tanto efecto como la voz pero nunca me llama ni en sueños soy yo quien lo llama a él las siete a las siete me comunicaron que estaba en el hospital corrí hacia allí pero el hospital ya estaba acordonado por la milicia no dejaban pasar a nadie solo entraban las ambulancias los milicianos gritaban los coches están irradiados no os acerquéis no sólo yo vinieron todas las mujeres todas cuyos maridos habían estado aquella noche en la central corrí en busca de una conocida que trabajaba como médico en aquel hospital la agarré de la bata cuando salía de un coche déjame pasar no puedo está mal todos están mal yo la tenía agarrada solo quiero verlo bueno me dice corre quince o veinte minutos lo vi estaba hinchado todo inflamado casi no tenía ojos leche mucha leche me dijo mi conocida que beba al menos tres litros él no toma leche pues ahora la tendrá que beber muchos médicos enfermeras y especialmente las auxiliares de aquel hospital al cabo de un tiempo se pondrían enfermas morirían pero entonces nadie lo sabía a las diez de la mañana murió el técnico shishenok fue el primero el primer día luego supimos que bajo los escombros se había quedado otro valera jodemchuk no lograron sacarlo lo emparedaron con el hormigón pero entonces aún no sabíamos que todos ellos serían solo los primeros le pregunto vasia qué hago vete de aquí vete estás esperando un niño estoy embarazada es cierto pero cómo lo voy a dejar él me pide vete salva al crío primero te tengo que traer leche y luego ya veremos llega mi amiga tania kibenok su marido está en la misma sala ha venido con su padre que tiene coche nos subimos al coche y vamos a la aldea más cercana a por leche a unos tres kilómetros de la ciudad compramos muchas garrafas de tres litros de leche seis para que hubiera para todos pero la leche les provocaba unos vómitos terribles perdían el sentido sin parar y les pusieron el gota a gota los médicos nos aseguraban no sé por qué que se habían envenenado con los gases nadie hablaba de la radiación entretanto la ciudad se llenó de vehículos militares se cerraron todas las carreteras se veían soldados por todas partes dejaron de circular los trenes de cercanías los expresos lavaban las calles con un polvo blanco me alarmé cómo iba a conseguir llegar al pueblo al día siguiente para comprarle leche fresca nadie hablaba de la radiación solo los militares iban con caretas la gente de la ciudad llevaba su pan de las tiendas las bolsas abiertas con los bollos en los estantes había pasteles la vida seguía como de costumbre solo lavaban las calles con un polvo por la noche no me dejaron entrar en el hospital había un mar de gente en los alrededores yo estaba frente a su ventana él se acercó a ella y me gritó algo se le veía tan desesperado entre la muchedumbre alguien entendió lo que decía que aquella noche se los llevaban a moscú todas las esposas nos arremolinamos en un corro y decidimos nos vamos con ellos dejadnos estar con nuestros maridos no tenéis derecho quisimos abrirnos paso a golpes a arañazos los soldados los soldados ya habían formado un doble cordón y nos impedían pasar a empujones entonces salió el médico y nos confirmó que se los llevaban aquella misma noche en avión a moscú que debíamos traerles ropa la que llevaban en la central se había quemado los autobuses ya no funcionaban y fuimos a pie corriendo a casa cuando volvimos con las bolsas el avión ya se había marchado nos engañaron a propósito para que no gritáramos ni lloráramos fragmento de voces de chernóbil por svetlana alexievich'"
      ]
     },
     "execution_count": 4,
     "metadata": {},
     "output_type": "execute_result"
    }
   ],
   "source": [
    "import re\n",
    "\n",
    "data=re.sub(r\"[\\W\\d_]+\",\" \",texto)\n",
    "data"
   ]
  },
  {
   "cell_type": "markdown",
   "metadata": {},
   "source": [
    "### Tokenizar"
   ]
  },
  {
   "cell_type": "code",
   "execution_count": 5,
   "metadata": {},
   "outputs": [
    {
     "name": "stdout",
     "output_type": "stream",
     "text": [
      "['una', 'solitaria', 'voz', 'humana', 'no', 'sé', 'de', 'qué', 'hablar', 'de', 'la', 'muerte', 'o', 'del', 'amor', 'o', 'es', 'lo', 'mismo', 'de', 'qué', 'nos', 'habíamos', 'casado', 'no', 'hacía', 'mucho', 'aún', 'íbamos', 'por', 'la', 'calle', 'agarrados', 'de', 'la', 'mano', 'hasta', 'cuando', 'íbamos', 'de', 'compras', 'siempre', 'juntos', 'yo', 'le', 'decía', 'te', 'quiero', 'pero', 'aún', 'no', 'sabía', 'cuánto', 'le', 'quería', 'ni', 'me', 'lo', 'imaginaba', 'vivíamos', 'en', 'la', 'residencia', 'de', 'la', 'unidad', 'de', 'bomberos', 'donde', 'él', 'trabajaba', 'en', 'el', 'piso', 'de', 'arriba', 'junto', 'a', 'otras', 'tres', 'familias', 'jóvenes', 'con', 'una', 'sola', 'cocina', 'para', 'todos', 'y', 'en', 'el', 'bajo', 'estaban', 'los', 'coches', 'unos', 'camiones', 'de', 'bomberos', 'rojos', 'este', 'era', 'su', 'trabajo', 'yo', 'siempre', 'estaba', 'al', 'corriente', 'dónde', 'se', 'encontraba', 'qué', 'le', 'pasaba', 'en', 'mitad', 'de', 'la', 'noche', 'oí', 'un', 'ruido', 'gritos', 'miré', 'por', 'la', 'ventana', 'él', 'me', 'vio', 'cierra', 'las', 'ventanillas', 'y', 'acuéstate', 'hay', 'un', 'incendio', 'en', 'la', 'central', 'volveré', 'pronto', 'no', 'vi', 'la', 'explosión', 'solo', 'las', 'llamas', 'todo', 'parecía', 'iluminado', 'el', 'cielo', 'entero', 'unas', 'llamas', 'altas', 'y', 'hollín', 'un', 'calor', 'horroroso', 'y', 'él', 'seguía', 'sin', 'regresar', 'el', 'hollín', 'se', 'debía', 'a', 'que', 'ardía', 'el', 'alquitrán', 'el', 'techo', 'de', 'la', 'central', 'estaba', 'cubierto', 'de', 'asfalto', 'sobre', 'el', 'que', 'la', 'gente', 'andaba', 'como', 'él', 'después', 'recordaría', 'como', 'si', 'fuera', 'resina', 'sofocaban', 'las', 'llamas', 'y', 'él', 'mientras', 'reptaba', 'subía', 'hacia', 'el', 'reactor', 'tiraban', 'el', 'grafito', 'ardiente', 'con', 'los', 'pies', 'acudieron', 'allí', 'sin', 'los', 'trajes', 'de', 'lona', 'se', 'fueron', 'para', 'allá', 'tal', 'como', 'iban', 'en', 'camisa', 'nadie', 'les', 'advirtió', 'era', 'un', 'aviso', 'de', 'un', 'incendio', 'normal', 'las', 'cuatro', 'las', 'cinco', 'las', 'seis', 'a', 'las', 'seis', 'teníamos', 'la', 'intención', 'de', 'ir', 'a', 'ver', 'a', 'sus', 'padres', 'para', 'plantar', 'patatas', 'desde', 'la', 'ciudad', 'de', 'prípiat', 'hasta', 'la', 'aldea', 'de', 'sperizhie', 'donde', 'vivían', 'sus', 'padres', 'hay', 'kilómetros', 'íbamos', 'a', 'sembrar', 'a', 'arar', 'era', 'su', 'trabajo', 'favorito', 'su', 'madre', 'recordaba', 'a', 'menudo', 'que', 'ni', 'ella', 'ni', 'su', 'padre', 'querían', 'dejarlo', 'marchar', 'a', 'la', 'ciudad', 'incluso', 'le', 'construyeron', 'una', 'casa', 'nueva', 'pero', 'se', 'lo', 'llevaron', 'al', 'ejército', 'sirvió', 'en', 'moscú', 'en', 'las', 'tropas', 'de', 'bomberos', 'y', 'cuando', 'regresó', 'solo', 'quería', 'ser', 'bombero', 'ninguna', 'otra', 'cosa', 'calla', 'a', 'veces', 'me', 'parece', 'oír', 'su', 'voz', 'oírle', 'vivo', 'ni', 'siquiera', 'las', 'fotografías', 'me', 'producen', 'tanto', 'efecto', 'como', 'la', 'voz', 'pero', 'nunca', 'me', 'llama', 'ni', 'en', 'sueños', 'soy', 'yo', 'quien', 'lo', 'llama', 'a', 'él', 'las', 'siete', 'a', 'las', 'siete', 'me', 'comunicaron', 'que', 'estaba', 'en', 'el', 'hospital', 'corrí', 'hacia', 'allí', 'pero', 'el', 'hospital', 'ya', 'estaba', 'acordonado', 'por', 'la', 'milicia', 'no', 'dejaban', 'pasar', 'a', 'nadie', 'solo', 'entraban', 'las', 'ambulancias', 'los', 'milicianos', 'gritaban', 'los', 'coches', 'están', 'irradiados', 'no', 'os', 'acerquéis', 'no', 'sólo', 'yo', 'vinieron', 'todas', 'las', 'mujeres', 'todas', 'cuyos', 'maridos', 'habían', 'estado', 'aquella', 'noche', 'en', 'la', 'central', 'corrí', 'en', 'busca', 'de', 'una', 'conocida', 'que', 'trabajaba', 'como', 'médico', 'en', 'aquel', 'hospital', 'la', 'agarré', 'de', 'la', 'bata', 'cuando', 'salía', 'de', 'un', 'coche', 'déjame', 'pasar', 'no', 'puedo', 'está', 'mal', 'todos', 'están', 'mal', 'yo', 'la', 'tenía', 'agarrada', 'solo', 'quiero', 'verlo', 'bueno', 'me', 'dice', 'corre', 'quince', 'o', 'veinte', 'minutos', 'lo', 'vi', 'estaba', 'hinchado', 'todo', 'inflamado', 'casi', 'no', 'tenía', 'ojos', 'leche', 'mucha', 'leche', 'me', 'dijo', 'mi', 'conocida', 'que', 'beba', 'al', 'menos', 'tres', 'litros', 'él', 'no', 'toma', 'leche', 'pues', 'ahora', 'la', 'tendrá', 'que', 'beber', 'muchos', 'médicos', 'enfermeras', 'y', 'especialmente', 'las', 'auxiliares', 'de', 'aquel', 'hospital', 'al', 'cabo', 'de', 'un', 'tiempo', 'se', 'pondrían', 'enfermas', 'morirían', 'pero', 'entonces', 'nadie', 'lo', 'sabía', 'a', 'las', 'diez', 'de', 'la', 'mañana', 'murió', 'el', 'técnico', 'shishenok', 'fue', 'el', 'primero', 'el', 'primer', 'día', 'luego', 'supimos', 'que', 'bajo', 'los', 'escombros', 'se', 'había', 'quedado', 'otro', 'valera', 'jodemchuk', 'no', 'lograron', 'sacarlo', 'lo', 'emparedaron', 'con', 'el', 'hormigón', 'pero', 'entonces', 'aún', 'no', 'sabíamos', 'que', 'todos', 'ellos', 'serían', 'solo', 'los', 'primeros', 'le', 'pregunto', 'vasia', 'qué', 'hago', 'vete', 'de', 'aquí', 'vete', 'estás', 'esperando', 'un', 'niño', 'estoy', 'embarazada', 'es', 'cierto', 'pero', 'cómo', 'lo', 'voy', 'a', 'dejar', 'él', 'me', 'pide', 'vete', 'salva', 'al', 'crío', 'primero', 'te', 'tengo', 'que', 'traer', 'leche', 'y', 'luego', 'ya', 'veremos', 'llega', 'mi', 'amiga', 'tania', 'kibenok', 'su', 'marido', 'está', 'en', 'la', 'misma', 'sala', 'ha', 'venido', 'con', 'su', 'padre', 'que', 'tiene', 'coche', 'nos', 'subimos', 'al', 'coche', 'y', 'vamos', 'a', 'la', 'aldea', 'más', 'cercana', 'a', 'por', 'leche', 'a', 'unos', 'tres', 'kilómetros', 'de', 'la', 'ciudad', 'compramos', 'muchas', 'garrafas', 'de', 'tres', 'litros', 'de', 'leche', 'seis', 'para', 'que', 'hubiera', 'para', 'todos', 'pero', 'la', 'leche', 'les', 'provocaba', 'unos', 'vómitos', 'terribles', 'perdían', 'el', 'sentido', 'sin', 'parar', 'y', 'les', 'pusieron', 'el', 'gota', 'a', 'gota', 'los', 'médicos', 'nos', 'aseguraban', 'no', 'sé', 'por', 'qué', 'que', 'se', 'habían', 'envenenado', 'con', 'los', 'gases', 'nadie', 'hablaba', 'de', 'la', 'radiación', 'entretanto', 'la', 'ciudad', 'se', 'llenó', 'de', 'vehículos', 'militares', 'se', 'cerraron', 'todas', 'las', 'carreteras', 'se', 'veían', 'soldados', 'por', 'todas', 'partes', 'dejaron', 'de', 'circular', 'los', 'trenes', 'de', 'cercanías', 'los', 'expresos', 'lavaban', 'las', 'calles', 'con', 'un', 'polvo', 'blanco', 'me', 'alarmé', 'cómo', 'iba', 'a', 'conseguir', 'llegar', 'al', 'pueblo', 'al', 'día', 'siguiente', 'para', 'comprarle', 'leche', 'fresca', 'nadie', 'hablaba', 'de', 'la', 'radiación', 'solo', 'los', 'militares', 'iban', 'con', 'caretas', 'la', 'gente', 'de', 'la', 'ciudad', 'llevaba', 'su', 'pan', 'de', 'las', 'tiendas', 'las', 'bolsas', 'abiertas', 'con', 'los', 'bollos', 'en', 'los', 'estantes', 'había', 'pasteles', 'la', 'vida', 'seguía', 'como', 'de', 'costumbre', 'solo', 'lavaban', 'las', 'calles', 'con', 'un', 'polvo', 'por', 'la', 'noche', 'no', 'me', 'dejaron', 'entrar', 'en', 'el', 'hospital', 'había', 'un', 'mar', 'de', 'gente', 'en', 'los', 'alrededores', 'yo', 'estaba', 'frente', 'a', 'su', 'ventana', 'él', 'se', 'acercó', 'a', 'ella', 'y', 'me', 'gritó', 'algo', 'se', 'le', 'veía', 'tan', 'desesperado', 'entre', 'la', 'muchedumbre', 'alguien', 'entendió', 'lo', 'que', 'decía', 'que', 'aquella', 'noche', 'se', 'los', 'llevaban', 'a', 'moscú', 'todas', 'las', 'esposas', 'nos', 'arremolinamos', 'en', 'un', 'corro', 'y', 'decidimos', 'nos', 'vamos', 'con', 'ellos', 'dejadnos', 'estar', 'con', 'nuestros', 'maridos', 'no', 'tenéis', 'derecho', 'quisimos', 'abrirnos', 'paso', 'a', 'golpes', 'a', 'arañazos', 'los', 'soldados', 'los', 'soldados', 'ya', 'habían', 'formado', 'un', 'doble', 'cordón', 'y', 'nos', 'impedían', 'pasar', 'a', 'empujones', 'entonces', 'salió', 'el', 'médico', 'y', 'nos', 'confirmó', 'que', 'se', 'los', 'llevaban', 'aquella', 'misma', 'noche', 'en', 'avión', 'a', 'moscú', 'que', 'debíamos', 'traerles', 'ropa', 'la', 'que', 'llevaban', 'en', 'la', 'central', 'se', 'había', 'quemado', 'los', 'autobuses', 'ya', 'no', 'funcionaban', 'y', 'fuimos', 'a', 'pie', 'corriendo', 'a', 'casa', 'cuando', 'volvimos', 'con', 'las', 'bolsas', 'el', 'avión', 'ya', 'se', 'había', 'marchado', 'nos', 'engañaron', 'a', 'propósito', 'para', 'que', 'no', 'gritáramos', 'ni', 'lloráramos', 'fragmento', 'de', 'voces', 'de', 'chernóbil', 'por', 'svetlana', 'alexievich']\n"
     ]
    }
   ],
   "source": [
    "palabras = data.split()\n",
    "print(palabras)"
   ]
  },
  {
   "cell_type": "markdown",
   "metadata": {},
   "source": [
    "## Punto 2:"
   ]
  },
  {
   "cell_type": "markdown",
   "metadata": {},
   "source": [
    "### Quitar palabras vacias"
   ]
  },
  {
   "cell_type": "code",
   "execution_count": 6,
   "metadata": {},
   "outputs": [
    {
     "name": "stderr",
     "output_type": "stream",
     "text": [
      "[nltk_data] Downloading package stopwords to\n",
      "[nltk_data]     C:\\Users\\cikan\\AppData\\Roaming\\nltk_data...\n",
      "[nltk_data]   Package stopwords is already up-to-date!\n"
     ]
    },
    {
     "data": {
      "text/plain": [
       "True"
      ]
     },
     "execution_count": 6,
     "metadata": {},
     "output_type": "execute_result"
    }
   ],
   "source": [
    "import nltk\n",
    "nltk.download('stopwords')"
   ]
  },
  {
   "cell_type": "code",
   "execution_count": 7,
   "metadata": {},
   "outputs": [],
   "source": [
    "from nltk.corpus import stopwords\n",
    "stopwords_sp = stopwords.words('spanish')"
   ]
  },
  {
   "cell_type": "code",
   "execution_count": 8,
   "metadata": {},
   "outputs": [
    {
     "name": "stdout",
     "output_type": "stream",
     "text": [
      "['solitaria', 'voz', 'humana', 'sé', 'hablar', 'muerte', 'amor', 'mismo', 'casado', 'hacía', 'aún', 'íbamos', 'calle', 'agarrados', 'mano', 'íbamos', 'compras', 'siempre', 'juntos', 'decía', 'quiero', 'aún', 'sabía', 'cuánto', 'quería', 'imaginaba', 'vivíamos', 'residencia', 'unidad', 'bomberos', 'trabajaba', 'piso', 'arriba', 'junto', 'tres', 'familias', 'jóvenes', 'sola', 'cocina', 'bajo', 'coches', 'camiones', 'bomberos', 'rojos', 'trabajo', 'siempre', 'corriente', 'dónde', 'encontraba', 'pasaba', 'mitad', 'noche', 'oí', 'ruido', 'gritos', 'miré', 'ventana', 'vio', 'cierra', 'ventanillas', 'acuéstate', 'incendio', 'central', 'volveré', 'pronto', 'vi', 'explosión', 'solo', 'llamas', 'parecía', 'iluminado', 'cielo', 'entero', 'unas', 'llamas', 'altas', 'hollín', 'calor', 'horroroso', 'seguía', 'regresar', 'hollín', 'debía', 'ardía', 'alquitrán', 'techo', 'central', 'cubierto', 'asfalto', 'gente', 'andaba', 'después', 'recordaría', 'si', 'resina', 'sofocaban', 'llamas', 'mientras', 'reptaba', 'subía', 'hacia', 'reactor', 'tiraban', 'grafito', 'ardiente', 'pies', 'acudieron', 'allí', 'trajes', 'lona', 'allá', 'tal', 'iban', 'camisa', 'nadie', 'advirtió', 'aviso', 'incendio', 'normal', 'cuatro', 'cinco', 'seis', 'seis', 'intención', 'ir', 'ver', 'padres', 'plantar', 'patatas', 'ciudad', 'prípiat', 'aldea', 'sperizhie', 'vivían', 'padres', 'kilómetros', 'íbamos', 'sembrar', 'arar', 'trabajo', 'favorito', 'madre', 'recordaba', 'menudo', 'padre', 'querían', 'dejarlo', 'marchar', 'ciudad', 'incluso', 'construyeron', 'casa', 'nueva', 'llevaron', 'ejército', 'sirvió', 'moscú', 'tropas', 'bomberos', 'regresó', 'solo', 'quería', 'ser', 'bombero', 'ninguna', 'cosa', 'calla', 'veces', 'parece', 'oír', 'voz', 'oírle', 'vivo', 'siquiera', 'fotografías', 'producen', 'efecto', 'voz', 'nunca', 'llama', 'sueños', 'llama', 'siete', 'siete', 'comunicaron', 'hospital', 'corrí', 'hacia', 'allí', 'hospital', 'acordonado', 'milicia', 'dejaban', 'pasar', 'nadie', 'solo', 'entraban', 'ambulancias', 'milicianos', 'gritaban', 'coches', 'irradiados', 'acerquéis', 'sólo', 'vinieron', 'todas', 'mujeres', 'todas', 'cuyos', 'maridos', 'aquella', 'noche', 'central', 'corrí', 'busca', 'conocida', 'trabajaba', 'médico', 'aquel', 'hospital', 'agarré', 'bata', 'salía', 'coche', 'déjame', 'pasar', 'puedo', 'mal', 'mal', 'agarrada', 'solo', 'quiero', 'verlo', 'bueno', 'dice', 'corre', 'quince', 'veinte', 'minutos', 'vi', 'hinchado', 'inflamado', 'casi', 'ojos', 'leche', 'mucha', 'leche', 'dijo', 'conocida', 'beba', 'menos', 'tres', 'litros', 'toma', 'leche', 'pues', 'ahora', 'beber', 'médicos', 'enfermeras', 'especialmente', 'auxiliares', 'aquel', 'hospital', 'cabo', 'tiempo', 'pondrían', 'enfermas', 'morirían', 'entonces', 'nadie', 'sabía', 'diez', 'mañana', 'murió', 'técnico', 'shishenok', 'primero', 'primer', 'día', 'luego', 'supimos', 'bajo', 'escombros', 'quedado', 'valera', 'jodemchuk', 'lograron', 'sacarlo', 'emparedaron', 'hormigón', 'entonces', 'aún', 'sabíamos', 'solo', 'primeros', 'pregunto', 'vasia', 'hago', 'vete', 'aquí', 'vete', 'esperando', 'niño', 'embarazada', 'cierto', 'cómo', 'voy', 'dejar', 'pide', 'vete', 'salva', 'crío', 'primero', 'traer', 'leche', 'luego', 'veremos', 'llega', 'amiga', 'tania', 'kibenok', 'marido', 'misma', 'sala', 'venido', 'padre', 'coche', 'subimos', 'coche', 'vamos', 'aldea', 'cercana', 'leche', 'tres', 'kilómetros', 'ciudad', 'compramos', 'muchas', 'garrafas', 'tres', 'litros', 'leche', 'seis', 'leche', 'provocaba', 'vómitos', 'terribles', 'perdían', 'parar', 'pusieron', 'gota', 'gota', 'médicos', 'aseguraban', 'sé', 'envenenado', 'gases', 'nadie', 'hablaba', 'radiación', 'entretanto', 'ciudad', 'llenó', 'vehículos', 'militares', 'cerraron', 'todas', 'carreteras', 'veían', 'soldados', 'todas', 'partes', 'dejaron', 'circular', 'trenes', 'cercanías', 'expresos', 'lavaban', 'calles', 'polvo', 'blanco', 'alarmé', 'cómo', 'iba', 'conseguir', 'llegar', 'pueblo', 'día', 'siguiente', 'comprarle', 'leche', 'fresca', 'nadie', 'hablaba', 'radiación', 'solo', 'militares', 'iban', 'caretas', 'gente', 'ciudad', 'llevaba', 'pan', 'tiendas', 'bolsas', 'abiertas', 'bollos', 'estantes', 'pasteles', 'vida', 'seguía', 'costumbre', 'solo', 'lavaban', 'calles', 'polvo', 'noche', 'dejaron', 'entrar', 'hospital', 'mar', 'gente', 'alrededores', 'frente', 'ventana', 'acercó', 'gritó', 'veía', 'tan', 'desesperado', 'muchedumbre', 'alguien', 'entendió', 'decía', 'aquella', 'noche', 'llevaban', 'moscú', 'todas', 'esposas', 'arremolinamos', 'corro', 'decidimos', 'vamos', 'dejadnos', 'maridos', 'derecho', 'quisimos', 'abrirnos', 'paso', 'golpes', 'arañazos', 'soldados', 'soldados', 'formado', 'doble', 'cordón', 'impedían', 'pasar', 'empujones', 'entonces', 'salió', 'médico', 'confirmó', 'llevaban', 'aquella', 'misma', 'noche', 'avión', 'moscú', 'debíamos', 'traerles', 'ropa', 'llevaban', 'central', 'quemado', 'autobuses', 'funcionaban', 'pie', 'corriendo', 'casa', 'volvimos', 'bolsas', 'avión', 'marchado', 'engañaron', 'propósito', 'gritáramos', 'lloráramos', 'fragmento', 'voces', 'chernóbil', 'svetlana', 'alexievich']\n"
     ]
    }
   ],
   "source": [
    "texto = [palabra for palabra in palabras if palabra not in stopwords_sp]\n",
    "print(texto)"
   ]
  },
  {
   "cell_type": "markdown",
   "metadata": {},
   "source": [
    "### ¿Cuáles son las 10 palabras no vacias más usadas?"
   ]
  },
  {
   "cell_type": "code",
   "execution_count": 9,
   "metadata": {},
   "outputs": [],
   "source": [
    "import collections\n",
    "##frecuenciaPalab = [texto.count(w) for w in texto]"
   ]
  },
  {
   "cell_type": "code",
   "execution_count": 10,
   "metadata": {},
   "outputs": [
    {
     "name": "stdout",
     "output_type": "stream",
     "text": [
      "Counter({'leche': 8, 'solo': 7, 'noche': 5, 'nadie': 5, 'ciudad': 5, 'hospital': 5, 'todas': 5, 'tres': 4, 'central': 4, 'voz': 3, 'aún': 3, 'íbamos': 3, 'bomberos': 3, 'llamas': 3, 'gente': 3, 'seis': 3, 'moscú': 3, 'pasar': 3, 'aquella': 3, 'coche': 3, 'entonces': 3, 'vete': 3, 'soldados': 3, 'llevaban': 3, 'sé': 2, 'siempre': 2, 'decía': 2, 'quiero': 2, 'sabía': 2, 'quería': 2, 'trabajaba': 2, 'bajo': 2, 'coches': 2, 'trabajo': 2, 'ventana': 2, 'incendio': 2, 'vi': 2, 'hollín': 2, 'seguía': 2, 'hacia': 2, 'allí': 2, 'iban': 2, 'padres': 2, 'aldea': 2, 'kilómetros': 2, 'padre': 2, 'casa': 2, 'llama': 2, 'siete': 2, 'corrí': 2, 'maridos': 2, 'conocida': 2, 'médico': 2, 'aquel': 2, 'mal': 2, 'litros': 2, 'médicos': 2, 'primero': 2, 'día': 2, 'luego': 2, 'cómo': 2, 'misma': 2, 'vamos': 2, 'gota': 2, 'hablaba': 2, 'radiación': 2, 'militares': 2, 'dejaron': 2, 'lavaban': 2, 'calles': 2, 'polvo': 2, 'bolsas': 2, 'avión': 2, 'solitaria': 1, 'humana': 1, 'hablar': 1, 'muerte': 1, 'amor': 1, 'mismo': 1, 'casado': 1, 'hacía': 1, 'calle': 1, 'agarrados': 1, 'mano': 1, 'compras': 1, 'juntos': 1, 'cuánto': 1, 'imaginaba': 1, 'vivíamos': 1, 'residencia': 1, 'unidad': 1, 'piso': 1, 'arriba': 1, 'junto': 1, 'familias': 1, 'jóvenes': 1, 'sola': 1, 'cocina': 1, 'camiones': 1, 'rojos': 1, 'corriente': 1, 'dónde': 1, 'encontraba': 1, 'pasaba': 1, 'mitad': 1, 'oí': 1, 'ruido': 1, 'gritos': 1, 'miré': 1, 'vio': 1, 'cierra': 1, 'ventanillas': 1, 'acuéstate': 1, 'volveré': 1, 'pronto': 1, 'explosión': 1, 'parecía': 1, 'iluminado': 1, 'cielo': 1, 'entero': 1, 'unas': 1, 'altas': 1, 'calor': 1, 'horroroso': 1, 'regresar': 1, 'debía': 1, 'ardía': 1, 'alquitrán': 1, 'techo': 1, 'cubierto': 1, 'asfalto': 1, 'andaba': 1, 'después': 1, 'recordaría': 1, 'si': 1, 'resina': 1, 'sofocaban': 1, 'mientras': 1, 'reptaba': 1, 'subía': 1, 'reactor': 1, 'tiraban': 1, 'grafito': 1, 'ardiente': 1, 'pies': 1, 'acudieron': 1, 'trajes': 1, 'lona': 1, 'allá': 1, 'tal': 1, 'camisa': 1, 'advirtió': 1, 'aviso': 1, 'normal': 1, 'cuatro': 1, 'cinco': 1, 'intención': 1, 'ir': 1, 'ver': 1, 'plantar': 1, 'patatas': 1, 'prípiat': 1, 'sperizhie': 1, 'vivían': 1, 'sembrar': 1, 'arar': 1, 'favorito': 1, 'madre': 1, 'recordaba': 1, 'menudo': 1, 'querían': 1, 'dejarlo': 1, 'marchar': 1, 'incluso': 1, 'construyeron': 1, 'nueva': 1, 'llevaron': 1, 'ejército': 1, 'sirvió': 1, 'tropas': 1, 'regresó': 1, 'ser': 1, 'bombero': 1, 'ninguna': 1, 'cosa': 1, 'calla': 1, 'veces': 1, 'parece': 1, 'oír': 1, 'oírle': 1, 'vivo': 1, 'siquiera': 1, 'fotografías': 1, 'producen': 1, 'efecto': 1, 'nunca': 1, 'sueños': 1, 'comunicaron': 1, 'acordonado': 1, 'milicia': 1, 'dejaban': 1, 'entraban': 1, 'ambulancias': 1, 'milicianos': 1, 'gritaban': 1, 'irradiados': 1, 'acerquéis': 1, 'sólo': 1, 'vinieron': 1, 'mujeres': 1, 'cuyos': 1, 'busca': 1, 'agarré': 1, 'bata': 1, 'salía': 1, 'déjame': 1, 'puedo': 1, 'agarrada': 1, 'verlo': 1, 'bueno': 1, 'dice': 1, 'corre': 1, 'quince': 1, 'veinte': 1, 'minutos': 1, 'hinchado': 1, 'inflamado': 1, 'casi': 1, 'ojos': 1, 'mucha': 1, 'dijo': 1, 'beba': 1, 'menos': 1, 'toma': 1, 'pues': 1, 'ahora': 1, 'beber': 1, 'enfermeras': 1, 'especialmente': 1, 'auxiliares': 1, 'cabo': 1, 'tiempo': 1, 'pondrían': 1, 'enfermas': 1, 'morirían': 1, 'diez': 1, 'mañana': 1, 'murió': 1, 'técnico': 1, 'shishenok': 1, 'primer': 1, 'supimos': 1, 'escombros': 1, 'quedado': 1, 'valera': 1, 'jodemchuk': 1, 'lograron': 1, 'sacarlo': 1, 'emparedaron': 1, 'hormigón': 1, 'sabíamos': 1, 'primeros': 1, 'pregunto': 1, 'vasia': 1, 'hago': 1, 'aquí': 1, 'esperando': 1, 'niño': 1, 'embarazada': 1, 'cierto': 1, 'voy': 1, 'dejar': 1, 'pide': 1, 'salva': 1, 'crío': 1, 'traer': 1, 'veremos': 1, 'llega': 1, 'amiga': 1, 'tania': 1, 'kibenok': 1, 'marido': 1, 'sala': 1, 'venido': 1, 'subimos': 1, 'cercana': 1, 'compramos': 1, 'muchas': 1, 'garrafas': 1, 'provocaba': 1, 'vómitos': 1, 'terribles': 1, 'perdían': 1, 'parar': 1, 'pusieron': 1, 'aseguraban': 1, 'envenenado': 1, 'gases': 1, 'entretanto': 1, 'llenó': 1, 'vehículos': 1, 'cerraron': 1, 'carreteras': 1, 'veían': 1, 'partes': 1, 'circular': 1, 'trenes': 1, 'cercanías': 1, 'expresos': 1, 'blanco': 1, 'alarmé': 1, 'iba': 1, 'conseguir': 1, 'llegar': 1, 'pueblo': 1, 'siguiente': 1, 'comprarle': 1, 'fresca': 1, 'caretas': 1, 'llevaba': 1, 'pan': 1, 'tiendas': 1, 'abiertas': 1, 'bollos': 1, 'estantes': 1, 'pasteles': 1, 'vida': 1, 'costumbre': 1, 'entrar': 1, 'mar': 1, 'alrededores': 1, 'frente': 1, 'acercó': 1, 'gritó': 1, 'veía': 1, 'tan': 1, 'desesperado': 1, 'muchedumbre': 1, 'alguien': 1, 'entendió': 1, 'esposas': 1, 'arremolinamos': 1, 'corro': 1, 'decidimos': 1, 'dejadnos': 1, 'derecho': 1, 'quisimos': 1, 'abrirnos': 1, 'paso': 1, 'golpes': 1, 'arañazos': 1, 'formado': 1, 'doble': 1, 'cordón': 1, 'impedían': 1, 'empujones': 1, 'salió': 1, 'confirmó': 1, 'debíamos': 1, 'traerles': 1, 'ropa': 1, 'quemado': 1, 'autobuses': 1, 'funcionaban': 1, 'pie': 1, 'corriendo': 1, 'volvimos': 1, 'marchado': 1, 'engañaron': 1, 'propósito': 1, 'gritáramos': 1, 'lloráramos': 1, 'fragmento': 1, 'voces': 1, 'chernóbil': 1, 'svetlana': 1, 'alexievich': 1})\n"
     ]
    }
   ],
   "source": [
    "print(collections.Counter(list(texto)))"
   ]
  },
  {
   "cell_type": "code",
   "execution_count": 11,
   "metadata": {},
   "outputs": [
    {
     "data": {
      "text/plain": [
       "[('leche', 8),\n",
       " ('solo', 7),\n",
       " ('noche', 5),\n",
       " ('nadie', 5),\n",
       " ('ciudad', 5),\n",
       " ('hospital', 5),\n",
       " ('todas', 5),\n",
       " ('tres', 4),\n",
       " ('central', 4),\n",
       " ('voz', 3)]"
      ]
     },
     "execution_count": 11,
     "metadata": {},
     "output_type": "execute_result"
    }
   ],
   "source": [
    "collections.Counter(list(texto)).most_common(10)"
   ]
  },
  {
   "cell_type": "markdown",
   "metadata": {},
   "source": [
    "## Punto 3"
   ]
  },
  {
   "cell_type": "markdown",
   "metadata": {},
   "source": [
    "### Stemming del documento"
   ]
  },
  {
   "cell_type": "code",
   "execution_count": 12,
   "metadata": {},
   "outputs": [],
   "source": [
    "from nltk.stem.snowball import SnowballStemmer\n",
    "spanishStemmer=SnowballStemmer(\"spanish\")"
   ]
  },
  {
   "cell_type": "code",
   "execution_count": 13,
   "metadata": {},
   "outputs": [
    {
     "name": "stdout",
     "output_type": "stream",
     "text": [
      "['solitari', 'voz', 'human', 'se', 'habl', 'muert', 'amor', 'mism', 'cas', 'hac', 'aun', 'ibam', 'call', 'agarr', 'man', 'ibam', 'compr', 'siempr', 'junt', 'dec', 'quier', 'aun', 'sab', 'cuant', 'quer', 'imagin', 'viv', 'resident', 'unid', 'bomber', 'trabaj', 'pis', 'arrib', 'junt', 'tres', 'famili', 'joven', 'sol', 'cocin', 'baj', 'coch', 'camion', 'bomber', 'roj', 'trabaj', 'siempr', 'corrient', 'dond', 'encontr', 'pas', 'mit', 'noch', 'oi', 'ruid', 'grit', 'mir', 'ventan', 'vio', 'cierr', 'ventanill', 'acuestat', 'incendi', 'central', 'volv', 'pront', 'vi', 'explosion', 'sol', 'llam', 'parec', 'ilumin', 'ciel', 'enter', 'unas', 'llam', 'altas', 'hollin', 'calor', 'horror', 'segu', 'regres', 'hollin', 'deb', 'ardi', 'alquitran', 'tech', 'central', 'cubiert', 'asfalt', 'gent', 'andab', 'despues', 'record', 'si', 'resin', 'sofoc', 'llam', 'mientr', 'rept', 'sub', 'haci', 'reactor', 'tir', 'grafit', 'ardient', 'pies', 'acud', 'alli', 'traj', 'lon', 'alla', 'tal', 'iban', 'camis', 'nadi', 'advirt', 'avis', 'incendi', 'normal', 'cuatr', 'cinc', 'seis', 'seis', 'intencion', 'ir', 'ver', 'padr', 'plant', 'patat', 'ciud', 'pripiat', 'alde', 'sperizhi', 'viv', 'padr', 'kilometr', 'ibam', 'sembr', 'arar', 'trabaj', 'favorit', 'madr', 'record', 'menud', 'padr', 'quer', 'dej', 'march', 'ciud', 'inclus', 'constru', 'cas', 'nuev', 'llev', 'ejercit', 'sirv', 'moscu', 'trop', 'bomber', 'regres', 'sol', 'quer', 'ser', 'bomber', 'ningun', 'cos', 'call', 'vec', 'parec', 'oir', 'voz', 'oirl', 'viv', 'siqu', 'fotograf', 'produc', 'efect', 'voz', 'nunc', 'llam', 'sueñ', 'llam', 'siet', 'siet', 'comunic', 'hospital', 'corr', 'haci', 'alli', 'hospital', 'acordon', 'milici', 'dej', 'pas', 'nadi', 'sol', 'entrab', 'ambul', 'milician', 'grit', 'coch', 'irradi', 'acerqu', 'sol', 'vin', 'tod', 'mujer', 'tod', 'cuy', 'mar', 'aquell', 'noch', 'central', 'corr', 'busc', 'conoc', 'trabaj', 'medic', 'aquel', 'hospital', 'agarr', 'bat', 'sal', 'coch', 'dejam', 'pas', 'pued', 'mal', 'mal', 'agarr', 'sol', 'quier', 'verl', 'buen', 'dic', 'corr', 'quinc', 'veint', 'minut', 'vi', 'hinch', 'inflam', 'casi', 'ojos', 'lech', 'much', 'lech', 'dij', 'conoc', 'beb', 'men', 'tres', 'litr', 'tom', 'lech', 'pues', 'ahor', 'beb', 'medic', 'enfermer', 'especial', 'auxiliar', 'aquel', 'hospital', 'cab', 'tiemp', 'pondr', 'enferm', 'mor', 'entonc', 'nadi', 'sab', 'diez', 'mañan', 'mur', 'tecnic', 'shishenok', 'primer', 'prim', 'dia', 'lueg', 'sup', 'baj', 'escombr', 'qued', 'valer', 'jodemchuk', 'logr', 'sac', 'empared', 'hormigon', 'entonc', 'aun', 'sab', 'sol', 'primer', 'pregunt', 'vasi', 'hag', 'vet', 'aqu', 'vet', 'esper', 'niñ', 'embaraz', 'ciert', 'com', 'voy', 'dej', 'pid', 'vet', 'salv', 'cri', 'primer', 'tra', 'lech', 'lueg', 'ver', 'lleg', 'amig', 'tani', 'kibenok', 'mar', 'mism', 'sal', 'ven', 'padr', 'coch', 'sub', 'coch', 'vam', 'alde', 'cercan', 'lech', 'tres', 'kilometr', 'ciud', 'compr', 'much', 'garraf', 'tres', 'litr', 'lech', 'seis', 'lech', 'provoc', 'vomit', 'terribl', 'perd', 'par', 'pus', 'got', 'got', 'medic', 'asegur', 'se', 'envenen', 'gas', 'nadi', 'habl', 'radiacion', 'entretant', 'ciud', 'llen', 'vehicul', 'militar', 'cerr', 'tod', 'carreter', 'vei', 'sold', 'tod', 'part', 'dej', 'circul', 'tren', 'cercan', 'expres', 'lav', 'call', 'polv', 'blanc', 'alarm', 'com', 'iba', 'consegu', 'lleg', 'puebl', 'dia', 'siguient', 'compr', 'lech', 'fresc', 'nadi', 'habl', 'radiacion', 'sol', 'militar', 'iban', 'caret', 'gent', 'ciud', 'llev', 'pan', 'tiend', 'bols', 'abiert', 'boll', 'estant', 'pastel', 'vid', 'segu', 'costumbr', 'sol', 'lav', 'call', 'polv', 'noch', 'dej', 'entrar', 'hospital', 'mar', 'gent', 'alrededor', 'frent', 'ventan', 'acerc', 'grit', 'vei', 'tan', 'desesper', 'muchedumbr', 'algui', 'entend', 'dec', 'aquell', 'noch', 'llev', 'moscu', 'tod', 'espos', 'arremolin', 'corr', 'decid', 'vam', 'dejadn', 'mar', 'derech', 'quis', 'abrirn', 'pas', 'golp', 'arañaz', 'sold', 'sold', 'form', 'dobl', 'cordon', 'imped', 'pas', 'empujon', 'entonc', 'sal', 'medic', 'confirm', 'llev', 'aquell', 'mism', 'noch', 'avion', 'moscu', 'deb', 'tra', 'rop', 'llev', 'central', 'quem', 'autobus', 'funcion', 'pie', 'corr', 'cas', 'volv', 'bols', 'avion', 'march', 'engañ', 'proposit', 'grit', 'llor', 'fragment', 'voc', 'chernobil', 'svetlan', 'alexievich']\n"
     ]
    }
   ],
   "source": [
    "texto_stem = []\n",
    "\n",
    "for palabras in texto:\n",
    "    raiz = spanishStemmer.stem(palabras)\n",
    "    texto_stem.append(raiz)\n",
    "    \n",
    "print(texto_stem)"
   ]
  },
  {
   "cell_type": "markdown",
   "metadata": {},
   "source": [
    "### ¿Cuáles son las 10 raíces más usadas?"
   ]
  },
  {
   "cell_type": "code",
   "execution_count": 14,
   "metadata": {},
   "outputs": [
    {
     "data": {
      "text/plain": [
       "[('sol', 9),\n",
       " ('lech', 8),\n",
       " ('coch', 5),\n",
       " ('pas', 5),\n",
       " ('noch', 5),\n",
       " ('llam', 5),\n",
       " ('nadi', 5),\n",
       " ('ciud', 5),\n",
       " ('dej', 5),\n",
       " ('llev', 5)]"
      ]
     },
     "execution_count": 14,
     "metadata": {},
     "output_type": "execute_result"
    }
   ],
   "source": [
    "collections.Counter(list(texto_stem)).most_common(10)"
   ]
  },
  {
   "cell_type": "markdown",
   "metadata": {},
   "source": [
    "## BONUS Punto 4"
   ]
  },
  {
   "cell_type": "markdown",
   "metadata": {},
   "source": [
    "### Contar cuántas ocurrencias hay por cada parte de la oración"
   ]
  },
  {
   "cell_type": "code",
   "execution_count": 15,
   "metadata": {},
   "outputs": [],
   "source": [
    "import es_core_news_sm"
   ]
  },
  {
   "cell_type": "code",
   "execution_count": 16,
   "metadata": {},
   "outputs": [],
   "source": [
    "spacy_es = es_core_news_sm.load()"
   ]
  },
  {
   "cell_type": "code",
   "execution_count": 17,
   "metadata": {},
   "outputs": [
    {
     "data": {
      "text/plain": [
       "solitaria voz humana sé hablar muerte amor mismo casado hacía aún íbamos calle agarrados mano íbamos compras siempre juntos decía quiero aún sabía cuánto quería imaginaba vivíamos residencia unidad bomberos trabajaba piso arriba junto tres familias jóvenes sola cocina bajo coches camiones bomberos rojos trabajo siempre corriente dónde encontraba pasaba mitad noche oí ruido gritos miré ventana vio cierra ventanillas acuéstate incendio central volveré pronto vi explosión solo llamas parecía iluminado cielo entero unas llamas altas hollín calor horroroso seguía regresar hollín debía ardía alquitrán techo central cubierto asfalto gente andaba después recordaría si resina sofocaban llamas mientras reptaba subía hacia reactor tiraban grafito ardiente pies acudieron allí trajes lona allá tal iban camisa nadie advirtió aviso incendio normal cuatro cinco seis seis intención ir ver padres plantar patatas ciudad prípiat aldea sperizhie vivían padres kilómetros íbamos sembrar arar trabajo favorito madre recordaba menudo padre querían dejarlo marchar ciudad incluso construyeron casa nueva llevaron ejército sirvió moscú tropas bomberos regresó solo quería ser bombero ninguna cosa calla veces parece oír voz oírle vivo siquiera fotografías producen efecto voz nunca llama sueños llama siete siete comunicaron hospital corrí hacia allí hospital acordonado milicia dejaban pasar nadie solo entraban ambulancias milicianos gritaban coches irradiados acerquéis sólo vinieron todas mujeres todas cuyos maridos aquella noche central corrí busca conocida trabajaba médico aquel hospital agarré bata salía coche déjame pasar puedo mal mal agarrada solo quiero verlo bueno dice corre quince veinte minutos vi hinchado inflamado casi ojos leche mucha leche dijo conocida beba menos tres litros toma leche pues ahora beber médicos enfermeras especialmente auxiliares aquel hospital cabo tiempo pondrían enfermas morirían entonces nadie sabía diez mañana murió técnico shishenok primero primer día luego supimos bajo escombros quedado valera jodemchuk lograron sacarlo emparedaron hormigón entonces aún sabíamos solo primeros pregunto vasia hago vete aquí vete esperando niño embarazada cierto cómo voy dejar pide vete salva crío primero traer leche luego veremos llega amiga tania kibenok marido misma sala venido padre coche subimos coche vamos aldea cercana leche tres kilómetros ciudad compramos muchas garrafas tres litros leche seis leche provocaba vómitos terribles perdían parar pusieron gota gota médicos aseguraban sé envenenado gases nadie hablaba radiación entretanto ciudad llenó vehículos militares cerraron todas carreteras veían soldados todas partes dejaron circular trenes cercanías expresos lavaban calles polvo blanco alarmé cómo iba conseguir llegar pueblo día siguiente comprarle leche fresca nadie hablaba radiación solo militares iban caretas gente ciudad llevaba pan tiendas bolsas abiertas bollos estantes pasteles vida seguía costumbre solo lavaban calles polvo noche dejaron entrar hospital mar gente alrededores frente ventana acercó gritó veía tan desesperado muchedumbre alguien entendió decía aquella noche llevaban moscú todas esposas arremolinamos corro decidimos vamos dejadnos maridos derecho quisimos abrirnos paso golpes arañazos soldados soldados formado doble cordón impedían pasar empujones entonces salió médico confirmó llevaban aquella misma noche avión moscú debíamos traerles ropa llevaban central quemado autobuses funcionaban pie corriendo casa volvimos bolsas avión marchado engañaron propósito gritáramos lloráramos fragmento voces chernóbil svetlana alexievich"
      ]
     },
     "execution_count": 17,
     "metadata": {},
     "output_type": "execute_result"
    }
   ],
   "source": [
    "doc = spacy_es(\" \".join(palabra for palabra in texto ))\n",
    "doc"
   ]
  },
  {
   "cell_type": "code",
   "execution_count": 18,
   "metadata": {
    "scrolled": true
   },
   "outputs": [
    {
     "name": "stdout",
     "output_type": "stream",
     "text": [
      "['ADJ', 'NOUN', 'ADJ', 'VERB', 'VERB', 'NOUN', 'ADJ', 'DET', 'ADJ', 'AUX', 'ADV', 'ADJ', 'NOUN', 'ADJ', 'NOUN', 'ADJ', 'NOUN', 'ADV', 'ADJ', 'AUX', 'VERB', 'ADV', 'AUX', 'PRON', 'AUX', 'AUX', 'AUX', 'NOUN', 'NOUN', 'NOUN', 'AUX', 'NOUN', 'ADV', 'ADJ', 'NUM', 'NOUN', 'ADJ', 'ADJ', 'NOUN', 'ADP', 'NOUN', 'NOUN', 'ADJ', 'ADJ', 'VERB', 'ADV', 'ADJ', 'PRON', 'AUX', 'AUX', 'NOUN', 'NOUN', 'PROPN', 'NOUN', 'NOUN', 'PROPN', 'PROPN', 'VERB', 'VERB', 'NOUN', 'VERB', 'NOUN', 'ADJ', 'VERB', 'ADV', 'VERB', 'NOUN', 'ADV', 'NOUN', 'VERB', 'ADJ', 'NOUN', 'ADJ', 'DET', 'NOUN', 'ADJ', 'ADJ', 'NOUN', 'ADJ', 'AUX', 'VERB', 'PROPN', 'VERB', 'AUX', 'VERB', 'NOUN', 'ADJ', 'ADJ', 'PROPN', 'NOUN', 'AUX', 'ADV', 'VERB', 'SCONJ', 'VERB', 'AUX', 'NOUN', 'SCONJ', 'AUX', 'AUX', 'ADP', 'NOUN', 'AUX', 'NOUN', 'ADV', 'PROPN', 'VERB', 'ADV', 'NOUN', 'VERB', 'ADV', 'PRON', 'AUX', 'NOUN', 'PRON', 'VERB', 'ADJ', 'NOUN', 'ADJ', 'NUM', 'NUM', 'NUM', 'NUM', 'NOUN', 'VERB', 'VERB', 'NOUN', 'VERB', 'NOUN', 'NOUN', 'PROPN', 'PROPN', 'ADJ', 'AUX', 'NOUN', 'ADJ', 'AUX', 'VERB', 'VERB', 'NOUN', 'ADJ', 'PROPN', 'AUX', 'ADJ', 'NOUN', 'AUX', 'VERB', 'VERB', 'NOUN', 'ADV', 'VERB', 'NOUN', 'ADJ', 'VERB', 'PROPN', 'VERB', 'PROPN', 'NOUN', 'ADJ', 'VERB', 'ADV', 'AUX', 'VERB', 'ADJ', 'DET', 'NOUN', 'VERB', 'NOUN', 'AUX', 'VERB', 'NOUN', 'VERB', 'ADJ', 'ADV', 'NOUN', 'AUX', 'NOUN', 'INTJ', 'ADV', 'VERB', 'PROPN', 'VERB', 'NUM', 'NUM', 'VERB', 'NOUN', 'PROPN', 'ADP', 'ADV', 'NOUN', 'PROPN', 'NOUN', 'AUX', 'VERB', 'PRON', 'ADV', 'AUX', 'NOUN', 'NOUN', 'AUX', 'NOUN', 'ADJ', 'VERB', 'ADV', 'VERB', 'DET', 'NOUN', 'DET', 'PRON', 'NOUN', 'DET', 'NOUN', 'ADJ', 'PROPN', 'VERB', 'ADJ', 'AUX', 'ADJ', 'DET', 'NOUN', 'PROPN', 'PROPN', 'AUX', 'PROPN', 'AUX', 'VERB', 'AUX', 'ADV', 'ADV', 'ADJ', 'ADJ', 'VERB', 'VERB', 'ADJ', 'VERB', 'VERB', 'NUM', 'NUM', 'NOUN', 'PROPN', 'ADJ', 'ADJ', 'ADV', 'NOUN', 'NOUN', 'DET', 'NOUN', 'VERB', 'ADJ', 'PROPN', 'ADV', 'NUM', 'NOUN', 'VERB', 'NOUN', 'SCONJ', 'ADV', 'VERB', 'NOUN', 'ADJ', 'ADV', 'ADJ', 'DET', 'NOUN', 'ADJ', 'NOUN', 'VERB', 'NOUN', 'AUX', 'ADV', 'PRON', 'AUX', 'NUM', 'ADV', 'VERB', 'NOUN', 'ADP', 'ADV', 'ADJ', 'NOUN', 'ADV', 'VERB', 'ADP', 'NOUN', 'ADJ', 'PROPN', 'PROPN', 'VERB', 'VERB', 'VERB', 'NOUN', 'ADV', 'ADV', 'AUX', 'ADV', 'ADJ', 'NOUN', 'PROPN', 'VERB', 'NUM', 'ADV', 'VERB', 'VERB', 'NOUN', 'ADJ', 'ADJ', 'PRON', 'AUX', 'VERB', 'VERB', 'PROPN', 'PROPN', 'PROPN', 'ADV', 'VERB', 'NOUN', 'ADV', 'VERB', 'VERB', 'NOUN', 'PROPN', 'PROPN', 'NOUN', 'DET', 'NOUN', 'ADJ', 'PROPN', 'NOUN', 'VERB', 'NOUN', 'VERB', 'NOUN', 'ADJ', 'NOUN', 'NUM', 'NOUN', 'NOUN', 'VERB', 'DET', 'NOUN', 'NUM', 'NOUN', 'PROPN', 'NUM', 'NOUN', 'AUX', 'NOUN', 'ADJ', 'AUX', 'VERB', 'VERB', 'NOUN', 'ADJ', 'NOUN', 'AUX', 'VERB', 'ADJ', 'NOUN', 'PRON', 'AUX', 'NOUN', 'ADV', 'PROPN', 'VERB', 'NOUN', 'ADJ', 'VERB', 'DET', 'NOUN', 'AUX', 'NOUN', 'DET', 'NOUN', 'VERB', 'VERB', 'NOUN', 'ADJ', 'ADJ', 'AUX', 'NOUN', 'NOUN', 'ADJ', 'PROPN', 'PRON', 'VERB', 'VERB', 'VERB', 'NOUN', 'NOUN', 'ADJ', 'VERB', 'NOUN', 'PROPN', 'PRON', 'AUX', 'NOUN', 'ADV', 'NOUN', 'AUX', 'NOUN', 'NOUN', 'NOUN', 'AUX', 'AUX', 'NOUN', 'ADJ', 'ADJ', 'NOUN', 'ADJ', 'ADJ', 'NOUN', 'AUX', 'INTJ', 'ADV', 'AUX', 'NOUN', 'NOUN', 'NOUN', 'VERB', 'VERB', 'PROPN', 'PROPN', 'NOUN', 'NOUN', 'ADV', 'ADJ', 'VERB', 'VERB', 'AUX', 'ADV', 'ADJ', 'PROPN', 'PRON', 'VERB', 'AUX', 'DET', 'NOUN', 'AUX', 'PROPN', 'DET', 'NOUN', 'VERB', 'NOUN', 'VERB', 'AUX', 'VERB', 'NOUN', 'NOUN', 'VERB', 'ADJ', 'VERB', 'NOUN', 'ADJ', 'NOUN', 'ADJ', 'ADJ', 'ADJ', 'NOUN', 'AUX', 'VERB', 'NOUN', 'ADV', 'VERB', 'ADJ', 'VERB', 'AUX', 'DET', 'DET', 'NOUN', 'PROPN', 'PROPN', 'AUX', 'ADJ', 'NOUN', 'AUX', 'ADJ', 'ADJ', 'NOUN', 'AUX', 'NOUN', 'VERB', 'NOUN', 'VERB', 'ADJ', 'NOUN', 'ADJ', 'VERB', 'NOUN', 'NOUN', 'VERB', 'ADJ', 'NOUN', 'ADJ', 'PROPN', 'PROPN']\n"
     ]
    }
   ],
   "source": [
    "oracion = []\n",
    "for palabra in doc:\n",
    "    oracion.append(palabra.pos_)\n",
    "print(oracion)"
   ]
  },
  {
   "cell_type": "code",
   "execution_count": 19,
   "metadata": {},
   "outputs": [
    {
     "data": {
      "text/plain": [
       "[('NOUN', 132),\n",
       " ('VERB', 93),\n",
       " ('ADJ', 79),\n",
       " ('AUX', 56),\n",
       " ('PROPN', 41),\n",
       " ('ADV', 40),\n",
       " ('DET', 17),\n",
       " ('NUM', 15),\n",
       " ('PRON', 12),\n",
       " ('ADP', 5),\n",
       " ('SCONJ', 3),\n",
       " ('INTJ', 2)]"
      ]
     },
     "execution_count": 19,
     "metadata": {},
     "output_type": "execute_result"
    }
   ],
   "source": [
    "collections.Counter(list(oracion)).most_common()"
   ]
  },
  {
   "cell_type": "code",
   "execution_count": null,
   "metadata": {},
   "outputs": [],
   "source": []
  }
 ],
 "metadata": {
  "kernelspec": {
   "display_name": "Python 3",
   "language": "python",
   "name": "python3"
  },
  "language_info": {
   "codemirror_mode": {
    "name": "ipython",
    "version": 3
   },
   "file_extension": ".py",
   "mimetype": "text/x-python",
   "name": "python",
   "nbconvert_exporter": "python",
   "pygments_lexer": "ipython3",
   "version": "3.7.4"
  }
 },
 "nbformat": 4,
 "nbformat_minor": 2
}
